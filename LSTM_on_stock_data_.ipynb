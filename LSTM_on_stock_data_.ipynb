{
  "nbformat": 4,
  "nbformat_minor": 0,
  "metadata": {
    "colab": {
      "name": "LSTM_on_stock_data_.ipynb",
      "provenance": [],
      "collapsed_sections": [],
      "include_colab_link": true
    },
    "kernelspec": {
      "name": "python3",
      "display_name": "Python 3"
    },
    "language_info": {
      "name": "python"
    }
  },
  "cells": [
    {
      "cell_type": "markdown",
      "metadata": {
        "id": "view-in-github",
        "colab_type": "text"
      },
      "source": [
        "<a href=\"https://colab.research.google.com/github/chemicoPy/ML-Forex-Market-Prediction/blob/LSTM-(new)/LSTM_on_stock_data_.ipynb\" target=\"_parent\"><img src=\"https://colab.research.google.com/assets/colab-badge.svg\" alt=\"Open In Colab\"/></a>"
      ]
    },
    {
      "cell_type": "code",
      "metadata": {
        "id": "tHyjM969en9N"
      },
      "source": [
        "from google.colab import drive"
      ],
      "execution_count": null,
      "outputs": []
    },
    {
      "cell_type": "code",
      "metadata": {
        "colab": {
          "base_uri": "https://localhost:8080/"
        },
        "id": "SU_yuslxe6sX",
        "outputId": "3d5f026c-4f6b-4b6d-cdf4-5793f51bac03"
      },
      "source": [
        "drive.mount(\"/content/gdrive\")"
      ],
      "execution_count": null,
      "outputs": [
        {
          "output_type": "stream",
          "name": "stdout",
          "text": [
            "Mounted at /content/gdrive\n"
          ]
        }
      ]
    },
    {
      "cell_type": "code",
      "metadata": {
        "id": "EKZBOsxGe614"
      },
      "source": [
        "!pip install python-binance\n",
        "!pip install configparser"
      ],
      "execution_count": null,
      "outputs": []
    },
    {
      "cell_type": "code",
      "metadata": {
        "id": "r6Uhf79le68F"
      },
      "source": [
        "import pandas as pd\n",
        "import numpy as np\n",
        "from binance.client import Client\n",
        "from binance import Client, ThreadedWebsocketManager \n",
        "from datetime import datetime, timedelta, date\n",
        "import matplotlib.pyplot as plt\n",
        "import configparser\n",
        "import matplotlib.pyplot as plt\n",
        "import time\n",
        "import math\n",
        "import os\n",
        "import io\n",
        "from sklearn.preprocessing import MinMaxScaler\n",
        "from sklearn.preprocessing import StandardScaler\n",
        "from keras.models import load_model\n",
        "from keras.models import Sequential\n",
        "from keras import optimizers\n",
        "from keras.callbacks import History\n",
        "from keras.models import Model\n",
        "from keras.layers import Dense, Dropout, LSTM, Input, Activation, concatenate\n",
        "from IPython.display import clear_output\n",
        "from datetime import date, timedelta\n",
        "import csv\n",
        "import warnings"
      ],
      "execution_count": null,
      "outputs": []
    },
    {
      "cell_type": "code",
      "metadata": {
        "id": "1eGTzSDYe7Bh"
      },
      "source": [
        "\n",
        "\"\"\"Either the person enters the coin name or select from a scrolling bar containing all available coins \"\"\"\n",
        "\"\"\" Either the person enters the time interval or select from a scrolling bar containing all time intervals \"\"\"\n",
        "\"\"\" It'd be better if there's a bar to choose from for coins and time intervals separately \"\"\"\n",
        "\n",
        "\"\"\" available_coins_are = [\"BNBUSDT\", \"ETHUSDT\", \"ADAUSDT\", \"DOTUSDT\", \"BTCUSDT\", \"FTMUSDT\", \"DOGEUSDT\", \"LINKUSDT\", \"SUSHIUSDT\", \"SOLUSDT\",\n",
        "                 \"IOSTUSDT\", \"LTCUSDT\", \"XRPUSDT\", \"SXPUSDT\", \"MATICUSDT\", \"BCHUSDT\"] \"\"\"\n",
        "\n",
        "coin = str(input(\"Enter coin name: \").upper())\n",
        "time_interval = str(input(\"Enter time interval name e.g 5m for 5-minute: \").lower())\n",
        "\n",
        "\"\"\" For example:\n",
        "symbol = 'BTCUSDT'\n",
        "interval = '1m' \"\"\"\n",
        "\n"
      ],
      "execution_count": null,
      "outputs": []
    },
    {
      "cell_type": "code",
      "metadata": {
        "id": "vE9n7yZGe7Jd"
      },
      "source": [
        "\n",
        "\n",
        "def consume_data(symbol,interval):\n",
        "\n",
        "  symbol = str(symbol)\n",
        "  interval = str(interval)\n",
        "\n",
        "  TEST_API_KEY = 'cmC20L6OdOe6nfS4iD0T3aIYYbGh53G9nsz1kSO4pd5JsVtVbsycpvzxIwN89AEN'\n",
        "  TEST_SECRET_KEY = 'JjyurQGV0hcbsEhsdUQoaoaeA85kw33xRrEJywhOJfI6ZNUvT42RMkQK1ed59gyh'\n",
        "\n",
        "  client = Client(TEST_API_KEY, TEST_SECRET_KEY)\n",
        "  client.API_URL = 'https://testnet.binance.vision/api'  # To change endpoint URL for test account\n",
        "\n",
        "  # Preparing Start to End period for klines historical data\n",
        "\n",
        "  td=timedelta(-10)\n",
        "  time_now = datetime.now()\n",
        "  start1 = time_now + td\n",
        "  start = start1.strftime('%Y-%m-%d- %H:%M:%S')\n",
        "\n",
        "\n",
        "\n",
        "  td_end = timedelta(hours=1)\n",
        "  Current_Date = datetime.today() + td_end\n",
        "  end=Current_Date.strftime ('%Y-%m-%d- %H:%M:%S')\n",
        "\n",
        "\n",
        "  whole_data = []\n",
        "\n",
        "  klines = client.get_historical_klines(symbol=symbol, interval=interval, start_str=start, end_str=end)\n",
        "  #print(klines)\n",
        "\n",
        "  df = pd.DataFrame(klines)\n",
        "  whole_data.append(df)\n",
        "\n",
        "\n",
        "  #print(start)\n",
        "  #print(end)\n",
        "\n",
        "  df = df.rename(columns={0: 'Open time', 1: 'Open', 2: 'High', 3: 'Low', 4: 'Close', 5: 'Volume',\n",
        "                                          6: 'Close Time', 7: 'Qoute Asset Volume', 8: 'No of Trades', 9: 'Taker buy',\n",
        "                                          10: 'Taker buy quote asset volume', 11: 'Coin_Name'})\n",
        "\n",
        "  df.drop(\"Coin_Name\", axis = 1, inplace = True)\n",
        "\n",
        "  def convertTime(t):\n",
        "    t = int(t)\n",
        "    return datetime.fromtimestamp(t)\n",
        "\n",
        "\n",
        "  df[\"Open time\"]= df[\"Open time\"]/1000\n",
        "  df[\"Open time\"] = df[\"Open time\"].apply(convertTime)\n",
        "  df[\"Close Time\"]= df[\"Close Time\"]/1000\n",
        "  df[\"Close Time\"] = df[\"Close Time\"].apply(convertTime)\n",
        "\n",
        "  data = df\n",
        "\n",
        "  return data\n",
        "\n",
        "\n"
      ],
      "execution_count": null,
      "outputs": []
    },
    {
      "cell_type": "code",
      "metadata": {
        "id": "TmFAjahciyD_"
      },
      "source": [
        "consume_data(coin, time_interval)"
      ],
      "execution_count": null,
      "outputs": []
    },
    {
      "cell_type": "code",
      "metadata": {
        "id": "NMBqyGTPi0ZZ"
      },
      "source": [
        ""
      ],
      "execution_count": null,
      "outputs": []
    },
    {
      "cell_type": "code",
      "metadata": {
        "id": "hG_7xexGls1Q"
      },
      "source": [
        "\"\"\" Using LSTM model \"\""
      ],
      "execution_count": null,
      "outputs": []
    },
    {
      "cell_type": "code",
      "metadata": {
        "id": "eHr9CO0Got0o"
      },
      "source": [
        "\n",
        "\n",
        "data = consume_data(coin, time_interval)\n",
        "\n",
        "#Train-Test split for time-series \n",
        "\n",
        "test_ratio = 0.2\n",
        "training_ratio = 1 - test_ratio\n",
        "\n",
        "train_size = int(training_ratio * len(data))\n",
        "test_size = int(test_ratio * len(data))\n",
        "#print(\"train_size: \" + str(train_size))\n",
        "#print(\"test_size: \" + str(test_size))\n",
        "\n",
        "train = data[:train_size][['Close Time', 'Close']]\n",
        "test = data[train_size:][['Close Time', 'Close']]\n",
        "\n",
        "  \n",
        "# Split the time-series data into training seq X and output value Y\n",
        "def extract_seqX_outcomeY(dataset, N, offset):\n",
        "    \"\"\"\n",
        "    Split time-series into training sequence X and outcome value Y\n",
        "    Args:\n",
        "        data - dataset \n",
        "        N - window size, e.g., 50 for 50 days of historical stock prices\n",
        "        offset - position to start the split\n",
        "    \"\"\"\n",
        "    X, y = [], []\n",
        "    \n",
        "    for i in range(offset, len(dataset)):\n",
        "        X.append(dataset[i-N:i])\n",
        "        y.append(dataset[i])\n",
        "    \n",
        "    return np.array(X), np.array(y)"
      ],
      "execution_count": null,
      "outputs": []
    },
    {
      "cell_type": "code",
      "metadata": {
        "id": "mTQ9LRI7ltRW"
      },
      "source": [
        ""
      ],
      "execution_count": null,
      "outputs": []
    },
    {
      "cell_type": "code",
      "metadata": {
        "id": "CIJEzWYRTq0r"
      },
      "source": [
        ""
      ],
      "execution_count": null,
      "outputs": []
    },
    {
      "cell_type": "code",
      "metadata": {
        "id": "yE7NISQCj2gT"
      },
      "source": [
        "layer_units = 50\n",
        "window_size = 50\n",
        "optimizer = 50 \n",
        "cur_epochs = 15\n",
        "cur_batch_size = 20\n",
        "    \n",
        "cur_LSTM_pars = {'units': layer_units, \n",
        "                     'optimizer': optimizer, \n",
        "                     'batch_size': cur_batch_size, \n",
        "                     'epochs': cur_epochs\n",
        "                     }  \n",
        "\n",
        "from sklearn.preprocessing import StandardScaler\n",
        "\n",
        "scaler = StandardScaler()\n",
        "scaled_data = scaler.fit_transform(data[['Close']])\n",
        "scaled_data_train = scaled_data[:train.shape[0]]\n",
        "    \n",
        "# Using past 50 days’ stock prices for our training to predict the 51th day's closing price.\n",
        "X_train, y_train = extract_seqX_outcomeY (scaled_data_train, window_size, window_size)\n",
        "\n",
        "  "
      ],
      "execution_count": null,
      "outputs": []
    },
    {
      "cell_type": "code",
      "metadata": {
        "id": "jFW6ig45j2mP"
      },
      "source": [
        "# Building LSTM model\n",
        "\n",
        "def Run_LSTM(X_train, layer_units=layer_units):     \n",
        "    inp = Input(shape=(X_train.shape[1], 1))\n",
        "    \n",
        "    x = LSTM(units=layer_units, return_sequences=True)(inp)\n",
        "    x = LSTM(units=layer_units)(x)\n",
        "    out = Dense(1, activation='linear')(x)\n",
        "    model = Model(inp, out)\n",
        "\n",
        "    model.compile(loss = 'mean_squared_error', optimizer = 'adam')\n",
        "  \n",
        "    return model   \n",
        "\n",
        "model = Run_LSTM(X_train, layer_units=layer_units)\n",
        "\n",
        "history = model.fit(X_train, y_train, epochs=cur_epochs, batch_size=cur_batch_size, \n",
        "                    verbose=1, validation_split=0.1, shuffle=True)\n",
        "\n",
        "history.save('lstm_on_stock_data_model.h5')"
      ],
      "execution_count": null,
      "outputs": []
    },
    {
      "cell_type": "code",
      "metadata": {
        "id": "gIuJMip-iyWK"
      },
      "source": [
        "# Predicting stock prices using past window_size stock prices\n",
        "\n",
        "def preprocess_testdat(data=data, scaler=scaler, window_size=window_size, test=test):    \n",
        "    raw = data['Close'][len(data) - len(test) - window_size:].values\n",
        "    raw = raw.reshape(-1,1)\n",
        "    raw = scaler.transform(raw)\n",
        "    \n",
        "    X_test = []\n",
        "    for i in range(window_size, raw.shape[0]):\n",
        "        X_test.append(raw[i-window_size:i, 0])\n",
        "        \n",
        "    X_test = np.array(X_test)\n",
        "    \n",
        "    X_test = np.reshape(X_test, (X_test.shape[0], X_test.shape[1], 1))\n",
        "    return X_test\n",
        "\n",
        "X_test = preprocess_testdat()\n",
        "\n",
        "predicted_price_ = model.predict(X_test)\n",
        "predicted_price = scaler.inverse_transform(predicted_price_)\n",
        "\n",
        "# Plot predicted price vs actual closing price \n",
        "test['Predictions_lstm'] = predicted_price"
      ],
      "execution_count": null,
      "outputs": []
    },
    {
      "cell_type": "code",
      "metadata": {
        "id": "s1aau453nUi-"
      },
      "source": [
        "\"\"\" def plot_stock_trend_lstm(train, test):        \n",
        "    fig = plt.figure(figsize = (20,10))\n",
        "    plt.plot(train['Close Time'], train['Close'], label = 'Train Closing Price')\n",
        "    plt.plot(test['Close Time'], test['Close'], label = 'Test Closing Price')\n",
        "    plt.plot(test['Close Time'], test['Predictions_lstm'], label = 'Predicted Closing Price')\n",
        "    plt.title('LSTM Model')\n",
        "    plt.xlabel('Date')\n",
        "    plt.ylabel('Stock Price ($)')\n",
        "    plt.legend(loc=\"upper left\")\n",
        "        \n",
        "plot_stock_trend_lstm(train, test) \"\"\""
      ],
      "execution_count": null,
      "outputs": []
    },
    {
      "cell_type": "code",
      "metadata": {
        "id": "c60kJfL7nUqb"
      },
      "source": [
        "predicted_price"
      ],
      "execution_count": null,
      "outputs": []
    },
    {
      "cell_type": "code",
      "metadata": {
        "colab": {
          "base_uri": "https://localhost:8080/"
        },
        "id": "lDveUvhLnaY0",
        "outputId": "a6a6fb6b-6bf0-4c12-f095-7fa510668cab"
      },
      "source": [
        "predicted_price[0] # first value in the predicted price array"
      ],
      "execution_count": null,
      "outputs": [
        {
          "output_type": "execute_result",
          "data": {
            "text/plain": [
              "array([63793.207], dtype=float32)"
            ]
          },
          "metadata": {},
          "execution_count": 17
        }
      ]
    },
    {
      "cell_type": "code",
      "metadata": {
        "colab": {
          "base_uri": "https://localhost:8080/"
        },
        "id": "RmAqtPGdtkiW",
        "outputId": "54402cbb-b1f5-4e1f-cb28-39d444ea6622"
      },
      "source": [
        "predicted_price[-1] # last value in the predicted price array"
      ],
      "execution_count": null,
      "outputs": [
        {
          "output_type": "execute_result",
          "data": {
            "text/plain": [
              "array([63210.65], dtype=float32)"
            ]
          },
          "metadata": {},
          "execution_count": 16
        }
      ]
    },
    {
      "cell_type": "code",
      "metadata": {
        "id": "rRQIoB1DtzCm"
      },
      "source": [
        ""
      ],
      "execution_count": null,
      "outputs": []
    }
  ]
}
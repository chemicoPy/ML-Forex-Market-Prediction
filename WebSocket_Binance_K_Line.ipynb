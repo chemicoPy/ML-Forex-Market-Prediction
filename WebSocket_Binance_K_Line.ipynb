{
  "nbformat": 4,
  "nbformat_minor": 0,
  "metadata": {
    "colab": {
      "name": "WebSocket_Binance_K_Line.ipynb",
      "provenance": [],
      "collapsed_sections": []
    },
    "kernelspec": {
      "name": "python3",
      "display_name": "Python 3"
    },
    "language_info": {
      "name": "python"
    }
  },
  "cells": [
    {
      "cell_type": "code",
      "metadata": {
        "colab": {
          "base_uri": "https://localhost:8080/"
        },
        "id": "GMYlY5mrHumk",
        "outputId": "72eba723-b286-4c7a-cb29-05be9df4448c"
      },
      "source": [
        "!pip install websocket-client"
      ],
      "execution_count": null,
      "outputs": [
        {
          "output_type": "stream",
          "name": "stdout",
          "text": [
            "Collecting websocket-client\n",
            "  Downloading websocket_client-1.2.1-py2.py3-none-any.whl (52 kB)\n",
            "\u001b[?25l\r\u001b[K     |██████▏                         | 10 kB 23.0 MB/s eta 0:00:01\r\u001b[K     |████████████▍                   | 20 kB 28.8 MB/s eta 0:00:01\r\u001b[K     |██████████████████▋             | 30 kB 12.5 MB/s eta 0:00:01\r\u001b[K     |████████████████████████▉       | 40 kB 9.0 MB/s eta 0:00:01\r\u001b[K     |███████████████████████████████ | 51 kB 5.2 MB/s eta 0:00:01\r\u001b[K     |████████████████████████████████| 52 kB 1.1 MB/s \n",
            "\u001b[?25hInstalling collected packages: websocket-client\n",
            "Successfully installed websocket-client-1.2.1\n"
          ]
        }
      ]
    },
    {
      "cell_type": "code",
      "metadata": {
        "id": "xjo9bkktH6S5"
      },
      "source": [
        "import websocket, json\n",
        "#import datetime\n",
        "from datetime import datetime\n",
        "from google.colab import output\n",
        "\n",
        "\n"
      ],
      "execution_count": null,
      "outputs": []
    },
    {
      "cell_type": "code",
      "metadata": {
        "id": "5KMZA71DOCsH"
      },
      "source": [
        "c=\"btcusdt\"\n",
        "interval=\"1m\""
      ],
      "execution_count": null,
      "outputs": []
    },
    {
      "cell_type": "code",
      "metadata": {
        "id": "EFtzcvFoNk1n"
      },
      "source": [
        "socket = f\"wss://stream.binance.com:9443/ws/{c}@kline_{interval}\""
      ],
      "execution_count": null,
      "outputs": []
    },
    {
      "cell_type": "code",
      "metadata": {
        "colab": {
          "base_uri": "https://localhost:8080/"
        },
        "id": "PGEqqKJQQdyR",
        "outputId": "58979112-e5d6-42a2-97bc-1c71df84d6d3"
      },
      "source": [
        "# Full data from Binance K-line per 200ms 1m Candle\n",
        "def on_message(ws, message):\n",
        "    jsoned = json.loads(message)\n",
        "    print(jsoned)\n",
        "    \n",
        "   \n",
        "\n",
        "def on_close(ws, close_status_code, close_msg):\n",
        "    print(\"Connection closed now\")\n",
        "\n",
        "ws = websocket.WebSocketApp(socket,on_message = on_message, on_close = on_close)\n",
        "ws.run_forever()"
      ],
      "execution_count": null,
      "outputs": [
        {
          "output_type": "stream",
          "name": "stdout",
          "text": [
            "{'e': 'kline', 'E': 1631664142463, 's': 'BTCUSDT', 'k': {'t': 1631664120000, 'T': 1631664179999, 's': 'BTCUSDT', 'i': '1m', 'f': 1054590381, 'L': 1054591026, 'o': '47149.60000000', 'c': '47143.96000000', 'h': '47151.84000000', 'l': '47091.49000000', 'v': '34.17565000', 'n': 646, 'x': False, 'q': '1610404.86245260', 'V': '13.72889000', 'Q': '646902.34241990', 'B': '0'}}\n",
            "{'e': 'kline', 'E': 1631664144511, 's': 'BTCUSDT', 'k': {'t': 1631664120000, 'T': 1631664179999, 's': 'BTCUSDT', 'i': '1m', 'f': 1054590381, 'L': 1054591068, 'o': '47149.60000000', 'c': '47139.21000000', 'h': '47151.84000000', 'l': '47091.49000000', 'v': '35.31368000', 'n': 688, 'x': False, 'q': '1664048.65601090', 'V': '14.59650000', 'Q': '687798.59288410', 'B': '0'}}\n",
            "Connection closed now\n"
          ]
        },
        {
          "output_type": "execute_result",
          "data": {
            "text/plain": [
              "False"
            ]
          },
          "metadata": {},
          "execution_count": 10
        }
      ]
    },
    {
      "cell_type": "code",
      "metadata": {
        "id": "ShBICfsfqeTx",
        "colab": {
          "base_uri": "https://localhost:8080/"
        },
        "outputId": "2828237d-427d-46b4-b513-a908b3ebdbc3"
      },
      "source": [
        "# Time and close per 200ms\n",
        "def on_message(ws, message):\n",
        "    jsoned = json.loads(message)\n",
        "    time = jsoned[\"E\"]#[\"T\"]\n",
        "    time = datetime.fromtimestamp(int(str(time)[:10])).strftime('%M:%S')\n",
        "    price = jsoned[\"k\"][\"c\"]\n",
        "    print(f'Time: {time} | Price: {price}')\n",
        "\n",
        "def on_close(ws, close_status_code, close_msg):\n",
        "    print(\"Connection closed now\")\n",
        "\n",
        "ws = websocket.WebSocketApp(socket,on_message = on_message, on_close = on_close)\n",
        "ws.run_forever()"
      ],
      "execution_count": null,
      "outputs": [
        {
          "output_type": "stream",
          "name": "stdout",
          "text": [
            "Connection closed now\n"
          ]
        },
        {
          "output_type": "execute_result",
          "data": {
            "text/plain": [
              "False"
            ]
          },
          "metadata": {},
          "execution_count": 7
        }
      ]
    }
  ]
}
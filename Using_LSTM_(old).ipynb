{
  "nbformat": 4,
  "nbformat_minor": 0,
  "metadata": {
    "colab": {
      "name": "Using LSTM (old)",
      "provenance": [],
      "collapsed_sections": [],
      "authorship_tag": "ABX9TyOa7varuz3ziUISFu7ARlb6"
    },
    "kernelspec": {
      "display_name": "Python 3",
      "name": "python3"
    },
    "language_info": {
      "name": "python"
    }
  },
  "cells": [
    {
      "cell_type": "code",
      "metadata": {
        "id": "Lajiy0zN-Rpz"
      },
      "source": [
        "!pip install python-binance"
      ],
      "execution_count": null,
      "outputs": []
    },
    {
      "cell_type": "code",
      "metadata": {
        "colab": {
          "base_uri": "https://localhost:8080/"
        },
        "id": "c-BF9egH-bCx",
        "outputId": "cf2d9ae6-245b-4052-bfaa-473df020951e"
      },
      "source": [
        "from google.colab import drive\n",
        "drive.mount('/content/drive')"
      ],
      "execution_count": null,
      "outputs": [
        {
          "name": "stdout",
          "output_type": "stream",
          "text": [
            "Mounted at /content/drive\n"
          ]
        }
      ]
    },
    {
      "cell_type": "code",
      "metadata": {
        "id": "pO02hMTp-hPY"
      },
      "source": [
        "import pandas as pd\n",
        "import numpy as np\n",
        "from sklearn.ensemble import RandomForestRegressor\n",
        "from binance.client import Client\n",
        "from datetime import datetime, timedelta, date\n",
        "import matplotlib.pyplot as plt\n",
        "import time\n",
        "import os\n",
        "from IPython.display import clear_output\n",
        "import pandas as pd\n",
        "import numpy as np\n",
        "from sklearn.preprocessing import StandardScaler\n",
        "from datetime import datetime, timedelta, date\n",
        "import matplotlib.pyplot as plt\n",
        "import time\n",
        "import os\n",
        "import math\n",
        "from IPython.display import clear_output\n",
        "from keras.models import Sequential\n",
        "from keras.layers import Dense, Dropout, CuDNNLSTM, Conv1D\n",
        "from sklearn import preprocessing\n",
        "from sklearn.model_selection import train_test_split\n",
        "from keras.models import Sequential\n",
        "from keras.layers import Dense\n",
        "from keras.layers import LSTM\n",
        "from keras.layers import Dropout\n",
        "from keras.layers import *\n",
        "from sklearn.preprocessing import MinMaxScaler\n",
        "from sklearn.metrics import mean_squared_error\n",
        "from sklearn.metrics import mean_absolute_error\n",
        "from sklearn.model_selection import train_test_split\n",
        "from keras.callbacks import EarlyStopping\n",
        "import tensorflow as tf\n",
        "from binance.client import Client\n",
        "from keras import optimizers\n",
        "from keras.callbacks import History\n",
        "from keras.models import Model\n",
        "from keras.layers import Dense, Dropout, LSTM, Input, Activation, concatenate\n",
        "import cufflinks as cf\n",
        "import seaborn as sns\n",
        "%matplotlib inline\n"
      ],
      "execution_count": null,
      "outputs": []
    },
    {
      "cell_type": "code",
      "metadata": {
        "colab": {
          "base_uri": "https://localhost:8080/",
          "height": 54
        },
        "id": "yeAQtLQV-4-x",
        "outputId": "2f03d351-aaf4-4205-d627-7e8dc10aaf30"
      },
      "source": [
        "dir_link=input('Enter Link of directory')\n",
        "file_name='/binance_data.csv'\n",
        "compl_link=dir_link+file_name\n",
        "compl_link"
      ],
      "execution_count": null,
      "outputs": [
        {
          "name": "stdout",
          "output_type": "stream",
          "text": [
            "Enter Link of directory/content/drive/MyDrive/Colab Notebooks\n"
          ]
        },
        {
          "data": {
            "application/vnd.google.colaboratory.intrinsic+json": {
              "type": "string"
            },
            "text/plain": [
              "'/content/drive/MyDrive/Colab Notebooks/binance_data.csv'"
            ]
          },
          "execution_count": 5,
          "metadata": {},
          "output_type": "execute_result"
        }
      ]
    },
    {
      "cell_type": "code",
      "metadata": {
        "id": "qks2GHJx_PUV"
      },
      "source": [
        "\n",
        "interval_chosen = []\n",
        "\n",
        "def data():\n",
        "    API_KEY = 'cmC20L6OdOe6nfS4iD0T3aIYYbGh53G9nsz1kSO4pd5JsVtVbsycpvzxIwN89AEN'\n",
        "    API_SECRET = 'JjyurQGV0hcbsEhsdUQoaoaeA85kw33xRrEJywhOJfI6ZNUvT42RMkQK1ed59gyh'\n",
        "    #API_KEY = 'FiehiL4oASF4FDsR5oAUfBqhdOjR4vwfwQltHbX4ucdr78XY6nA8bKsVorwfMMpt'\n",
        "    #API_SECRET = 'k4pkBSFEjupQN63PYYBDl3mgKrLAMEopKCcy8YcLusi0mBrxyxyCLbQB12awL3QC'\n",
        "    # API_KEY = 'aTrEpYSztGNxooC07JI0mEfFJUud6jg2yOJkhMt9xC5IQBFbq19n5SApaG0eeHoS'\n",
        "    # API_SECRET ='c8AoWE0caEmyGuQuLQSKFPLdcD1UN0T9MBDcuRbWPYT7nlk308XWmU0YzcUwvSwq'\n",
        "\n",
        "    client = Client(API_KEY, API_SECRET)\n",
        "    whole_data = []\n",
        "\n",
        "    all_coins = [\"BNBUSDT\", \"ETHUSDT\", \"ADAUSDT\", \"DOTUSDT\", \"BTCUSDT\", \"FTMUSDT\", \"DOGEUSDT\", \"LINKUSDT\", \"SUSHIUSDT\", \"SOLUSDT\",\n",
        "                 \"IOSTUSDT\", \"LTCUSDT\", \"XRPUSDT\", \"SXPUSDT\", \"MATICUSDT\", \"BCHUSDT\"]\n",
        "\n",
        "\n",
        "\n",
        "\n",
        "    td=timedelta(-10)\n",
        "    time_now = datetime.now()\n",
        "    start1 = time_now + td\n",
        "    start = start1.strftime('%Y-%m-%d- %H:%M:%S')\n",
        "\n",
        "\n",
        "\n",
        "    Current_Date = datetime.today()\n",
        "\n",
        "    end=Current_Date.strftime ('%Y-%m-%d- %H:%M:%S')\n",
        "\n",
        "\n",
        "\n",
        "\n",
        "\n",
        "\n",
        "    # data_of_coin = input('Enter the name of coin along with USDT such BNBUSDT')\n",
        "    data_of_coin='BTCUSDT'\n",
        "\n",
        "    index_of_coin = all_coins.index(data_of_coin)\n",
        "\n",
        "\n",
        "    print(index_of_coin)\n",
        "    coin = all_coins[index_of_coin]\n",
        "    # print(coin)\n",
        "\n",
        "    # interval = input('Enter 5m  for the INTERVAL of 5MINUTE \\n , 15m for the INTERVAL of 15MINUTE, \\n'\n",
        "    #                  '3 for the INTERVAL of 30MINUTE \\n, 4for the INTERVAL of 1 HOUR, \\n'\n",
        "    #                  ' 5 for the INTERVAL of 4HOUR \\n, 8h for the INTERVAL of 8 HOUR \\n')\n",
        "    interval='5m'\n",
        "\n",
        "    interval_chosen.append(interval)\n",
        "\n",
        "    dictionary = {'1m': Client.KLINE_INTERVAL_1MINUTE,'5m': Client.KLINE_INTERVAL_5MINUTE, '15m': Client.KLINE_INTERVAL_15MINUTE,\n",
        "                  '30m': Client.KLINE_INTERVAL_30MINUTE, '1h': Client.KLINE_INTERVAL_1HOUR,\n",
        "                  '4h': Client.KLINE_INTERVAL_4HOUR, '8h': Client.KLINE_INTERVAL_8HOUR}\n",
        "    # print('start',start, type(start), 'end', end, type(end) )\n",
        "    for runner in range(0, 1):\n",
        "\n",
        "        name = []\n",
        "        klines = client.get_historical_klines(coin, dictionary[interval], start, end)\n",
        "\n",
        "\n",
        "        # getting name of coin.\n",
        "        for i in klines:\n",
        "            name.append(coin)\n",
        "\n",
        "        df = pd.DataFrame(klines)  # data of coin is prepared.\n",
        "        df['Coin_Name'] = name\n",
        "\n",
        "        whole_data.append(df)\n",
        "        # print(df)\n",
        "\n",
        "    merging_data = pd.concat(whole_data, axis=0)\n",
        "    #print(merging_data)\n",
        "\n",
        "    m_data = merging_data.drop(11, axis=1)\n",
        "    global N_data\n",
        "    N_data = m_data.rename(columns={0: 'Open time', 1: 'Open', 2: 'High', 3: 'Low', 4: 'Close', 5: 'Volume',\n",
        "                                          6: 'Close Time', 7: 'Qoute Asset Volume', 8: 'No of Trades', 9: 'Taker buy',\n",
        "                                          10: 'Taker buy quote asset volume', 'Coin_Name': 'Coin_Name'})\n",
        "\n",
        "    o_t_c = N_data['Open time'] / 1000\n",
        "    c_t_c = N_data['Close Time'] / 1000\n",
        "\n",
        "    o_t_list = []\n",
        "    for timer in o_t_c:\n",
        "        timestamp = datetime.fromtimestamp(timer)\n",
        "        o_t_value = timestamp.strftime('%Y-%m-%d %H:%M:%S')\n",
        "        o_t_list.append(o_t_value)\n",
        "    N_data['Open time'] = o_t_list\n",
        "\n",
        "    c_t_list = []\n",
        "    for timer in c_t_c:\n",
        "        timestamp = datetime.fromtimestamp(timer)\n",
        "        c_t_value = timestamp.strftime('%Y-%m-%d %H:%M:%S')\n",
        "        c_t_list.append(c_t_value)\n",
        "    N_data['Close Time'] = c_t_list\n",
        "    N_data.to_csv(compl_link)\n",
        "    return N_data\n",
        "\n",
        "\n",
        "\n",
        "\n",
        "# print('Data File Created')\n",
        "\n"
      ],
      "execution_count": null,
      "outputs": []
    },
    {
      "cell_type": "code",
      "metadata": {
        "id": "Hhcosy_y_VKY"
      },
      "source": [
        "def predic_fun():\n",
        "  global df\n",
        "  df=pd.read_csv(compl_link, index_col='Open time', usecols=[ 'Open time', 'Open', 'High', 'Low', 'Close', 'Volume',\n",
        "        'Qoute Asset Volume', 'No of Trades', 'Taker buy',\n",
        "        'Taker buy quote asset volume'])\n",
        "  df=df[:-1]\n",
        "  global test_df,x_train, y_train\n",
        "  test_df=df\n",
        "  test_df['Close']=test_df['Close'].shift(-1)\n",
        "  data1=test_df.iloc[:-1]\n",
        "  x_train=data1.drop('Close', axis=1)\n",
        "  # y_train=pd.Series(data1['Close'])\n",
        "  y_train=data1['Close']\n",
        "  clf=RandomForestRegressor()\n",
        "  clf.fit(x_train,y_train)\n",
        "  # prediction=clf.predict(test_df.drop('Close',axis=1).iloc[-1:])\n",
        "\n",
        "\n",
        "  # row=-3\n",
        "  usecols=[ 'Open', 'High', 'Low', 'Volume','Qoute Asset Volume', 'No of Trades', 'Taker buy','Taker buy quote asset volume']\n",
        "  global predict_df1\n",
        "  predict_df=[]\n",
        "  for i in usecols:\n",
        "  #     print(i)\n",
        "      try:\n",
        "          model = ARIMA(df[i][:], order=(2,2,5))\n",
        "          model_fit = model.fit()\n",
        "          \n",
        "          predict_df.append((i,model_fit.forecast()[0][0]))\n",
        "      except:\n",
        "          predict_df.append((i,df[i][-1]))\n",
        "          # print(i,df[i][row-1])\n",
        "  # global predict_df1\n",
        "  predict_df1=pd.DataFrame(predict_df).T\n",
        "  predict_df1.columns=predict_df1.loc[0]\n",
        "  predict_df1.iloc[1:]\n",
        "  prediction=clf.predict(predict_df1.iloc[1:])\n",
        "\n",
        "  return prediction\n",
        "# predic_fun()"
      ],
      "execution_count": null,
      "outputs": []
    },
    {
      "cell_type": "code",
      "metadata": {
        "id": "9yA_rwyY_cmn"
      },
      "source": [
        ""
      ],
      "execution_count": null,
      "outputs": []
    },
    {
      "cell_type": "code",
      "metadata": {
        "id": "gE82o0Zq_drW"
      },
      "source": [
        ""
      ],
      "execution_count": null,
      "outputs": []
    },
    {
      "cell_type": "code",
      "metadata": {
        "id": "p3x-QUB1_fZK"
      },
      "source": [
        "win_str=0\n",
        "max_lose_str=0\n",
        "lose_str=0\n",
        "max_win_str=0\n",
        "# check_list=[]\n",
        "\n",
        "def values_plot():\n",
        "  global check_list\n",
        "  closed_=test_df['Close'].iloc[-3:][0] #real closed value\n",
        "  open=test_df['Open'].iloc[-1:][0]     #real open value\n",
        "  pre_open=predict_df1['Open'].iloc[1]      #predicted open value\n",
        "  \n",
        "  open_list.append((test_df.index[-1],open))\n",
        "  closed_list.append((test_df.index[-3],closed_))\n",
        "  prediction=predic_fun()\n",
        "  prediction[0]\n",
        "  prediction_list.append((time_for_pred(),prediction[0]))\n",
        "  \n",
        "  predicted_open_list.append((time_for_open_pred(),pre_open))\n",
        "  # check_list.append((time_for_pred(),prediction[0],pre_open))\n",
        "  # print(time_for_pred(),'predicted close',prediction[0],'predicted open',pre_open)\n",
        "\n",
        "  \n",
        "  \n",
        "  \n",
        "  \n",
        "  \n",
        "  time_=test_df['Open'].iloc[-1:].index[0]\n",
        "  global open_df , prediction_df, closed_df,predicted_open_df,predicted_open_df_indx\n",
        "  open_df=pd.DataFrame(open_list[1:])\n",
        "  prediction_df=pd.DataFrame(prediction_list[:-1])\n",
        "  closed_df=pd.DataFrame(closed_list)\n",
        "\n",
        "  predicted_open_df=pd.DataFrame(predicted_open_list)\n",
        "\n",
        "  prediction_str=pd.DataFrame(predicted_open_list)\n",
        "  #matrix\n",
        "  predicted_open_df_indx=prediction_str\n",
        "  predicted_open_df_indx.index=prediction_str[0]\n",
        "\n",
        "  streak()\n",
        "\n",
        "  figure, ax=plt.subplots(4,figsize=(20,20))\n",
        "\n",
        "  \n",
        "  # subplot1.set(title='Open Value at '+time_+' Prediction for next 10 mins')\n",
        "  ax[0].scatter(time_for_pred(),prediction[0], label='Predicted Closed Value')\n",
        "  ax[0].scatter(time_for_pred(),pre_open, label='predicted Open Value')\n",
        "  \n",
        "\n",
        "  # x = np.arange(len(prediction_df[0]))\n",
        "  # width = 0.35\n",
        "\n",
        "  \n",
        "  \n",
        "  # subplot2.plot(open_list[1:], label='Real Open Value Graph')\n",
        "  # subplot2.plot(prediction_list[:-1], label='Predicted Closed Values Graph')\n",
        "  try:\n",
        "    # print(open)\n",
        "    ax[2].bar(prediction_df[0], prediction_df[1], width=0.8, label='Predicted Closed Value' )\n",
        "    ax[2].bar(open_df[0], open_df[1], width=0.4, label='Real Open Value')\n",
        "\n",
        "    \n",
        "\n",
        "    ax[2].set_xlim(0,15)\n",
        "    ax[2].set_ylim(open-15,open+5)\n",
        "    ax[2].set_xticks(prediction_df[0])\n",
        "    ax[2].set_xticklabels(prediction_df[0], rotation=90)\n",
        "    \n",
        "  except:\n",
        "    pass\n",
        "  try:\n",
        "    ax[3].bar(closed_df[0], closed_df[1], width=0.8, label='Real Closed Value', color='red' )\n",
        "    ax[3].bar(open_df[0], open_df[1], width=0.4, label='Real  Open Value', color='orange')\n",
        "\n",
        "    \n",
        "\n",
        "    ax[3].set_xlim(0,15)\n",
        "    ax[3].set_ylim(open-15,open+5)\n",
        "    ax[3].set_xticks(closed_df[0])\n",
        "    ax[3].set_xticklabels(closed_df[0], rotation=90)\n",
        "  except:\n",
        "    pass\n",
        "\n",
        "\n",
        "  try:\n",
        "    # print(open)\n",
        "    ax[1].bar(prediction_df[0], prediction_df[1], width=0.8, label='Predicted Closed Value' )\n",
        "    ax[1].bar(predicted_open_df[0], predicted_open_df[1], width=0.4, label='predicted Open Value')\n",
        "\n",
        "    \n",
        "\n",
        "    ax[1].set_xlim(0,15)\n",
        "    ax[1].set_ylim(open-15,open+5)\n",
        "    ax[1].set_xticks(prediction_df[0])\n",
        "    ax[1].set_xticklabels(prediction_df[0], rotation=90)\n",
        "    \n",
        "  except:\n",
        "    pass\n",
        "\n",
        "  ax[0].legend()\n",
        "  ax[1].legend()\n",
        "  ax[2].legend()\n",
        "  ax[3].legend()\n",
        "\n"
      ],
      "execution_count": null,
      "outputs": []
    },
    {
      "cell_type": "code",
      "metadata": {
        "id": "qCzzNtSt_lAR"
      },
      "source": [
        "max_lose_str=0\n",
        "total_trade=0\n",
        "win_per=0\n",
        "win_str=0\n",
        "lose_str=0\n",
        "max_win_str=0\n",
        "def streak():\n",
        " \n",
        " # list_for_streak.append((time_for_open_pred(),pre_open))\n",
        "\n",
        "  global max_lose_str, win_str, max_lose_str, lose_str, max_win_str, total_trade, win_per\n",
        "  \n",
        "  \n",
        "  try:\n",
        "    \n",
        "    \n",
        "    \n",
        "      \n",
        "\n",
        "    \n",
        "  \n",
        "\n",
        "    if test_df.loc[prediction_df.iloc[-3][0]][0] < test_df.loc[prediction_df.iloc[-3][0]][3] and predicted_open_df_indx.loc[prediction_df.iloc[-3][0]][1] < prediction_df.iloc[-3][1]:\n",
        "      total_trade=total_trade+1\n",
        "      print('Total trade :', total_trade)\n",
        "      \n",
        "      \n",
        "      lose_str=0\n",
        "      win_str=win_str+1\n",
        "      win_per=win_per+1\n",
        "      if max_win_str < win_str:\n",
        "        max_win_str=win_str       \n",
        "        print('Winning Streak :', max_win_str)\n",
        "        print('Losing Streak :', max_lose_str)\n",
        "      else:\n",
        "        print('Winning Streak :', max_win_str)\n",
        "        print('Losing Streak :', max_lose_str)\n",
        "\n",
        "    elif test_df.loc[prediction_df.iloc[-3][0]][0] > test_df.loc[prediction_df.iloc[-3][0]][3] and predicted_open_df_indx.loc[prediction_df.iloc[-3][0]][1] > prediction_df.iloc[-3][1]:\n",
        "      total_trade=total_trade+1\n",
        "      print('Total trade :', total_trade)\n",
        "      lose_str=0\n",
        "      win_str=win_str+1\n",
        "      win_per=win_per+1\n",
        "      # print('Winning Streak :', win_str)\n",
        "      if max_win_str < win_str:\n",
        "        max_win_str=win_str\n",
        "\n",
        "        print('Winning Streak :', max_win_str)\n",
        "        print('Losing Streak :', max_lose_str)\n",
        "      else:\n",
        "        print('Winning Streak :', max_win_str)\n",
        "        print('Losing Streak :', max_lose_str)\n",
        "      \n",
        "\n",
        "    else:\n",
        "      total_trade=total_trade+1\n",
        "      print('Total trade :', total_trade)\n",
        "\n",
        "\n",
        "      win_str=0\n",
        "      lose_str=lose_str+1\n",
        "      if max_lose_str < lose_str:\n",
        "        max_lose_str=lose_str\n",
        "        print('Losing Streak :', max_lose_str)\n",
        "        print('Winning Streak :', max_win_str)\n",
        "      else:\n",
        "        print('Winning Streak :', max_win_str)\n",
        "        print('Losing Streak :', max_lose_str)\n",
        "\n",
        "    \n",
        "    print('Total Wins', win_per )\n",
        "    print('Win Percentage :', (win_per/total_trade)*100)\n",
        "\n",
        "\n",
        "  except:\n",
        "    pass\n",
        "\n"
      ],
      "execution_count": null,
      "outputs": []
    },
    {
      "cell_type": "code",
      "metadata": {
        "colab": {
          "base_uri": "https://localhost:8080/"
        },
        "id": "P7aQQEOt_p35",
        "outputId": "9e3cad4e-b2cf-4838-90ff-3119946ef496"
      },
      "source": [
        "def all_fun():\n",
        "  data().to_csv(compl_link)\n",
        "  predic_fun()\n",
        "  #values_plot()\n",
        "\n",
        "all_fun()\n",
        "data().to_csv(compl_link)"
      ],
      "execution_count": null,
      "outputs": [
        {
          "name": "stdout",
          "output_type": "stream",
          "text": [
            "4\n",
            "4\n"
          ]
        }
      ]
    },
    {
      "cell_type": "code",
      "metadata": {
        "colab": {
          "base_uri": "https://localhost:8080/",
          "height": 236
        },
        "id": "aD7-s33_AN12",
        "outputId": "ab889e3d-91e6-424b-f818-7acc0eb7fcd2"
      },
      "source": [
        "df.tail()"
      ],
      "execution_count": null,
      "outputs": [
        {
          "data": {
            "text/html": [
              "<div>\n",
              "<style scoped>\n",
              "    .dataframe tbody tr th:only-of-type {\n",
              "        vertical-align: middle;\n",
              "    }\n",
              "\n",
              "    .dataframe tbody tr th {\n",
              "        vertical-align: top;\n",
              "    }\n",
              "\n",
              "    .dataframe thead th {\n",
              "        text-align: right;\n",
              "    }\n",
              "</style>\n",
              "<table border=\"1\" class=\"dataframe\">\n",
              "  <thead>\n",
              "    <tr style=\"text-align: right;\">\n",
              "      <th></th>\n",
              "      <th>Open</th>\n",
              "      <th>High</th>\n",
              "      <th>Low</th>\n",
              "      <th>Close</th>\n",
              "      <th>Volume</th>\n",
              "      <th>Qoute Asset Volume</th>\n",
              "      <th>No of Trades</th>\n",
              "      <th>Taker buy</th>\n",
              "      <th>Taker buy quote asset volume</th>\n",
              "    </tr>\n",
              "    <tr>\n",
              "      <th>Open time</th>\n",
              "      <th></th>\n",
              "      <th></th>\n",
              "      <th></th>\n",
              "      <th></th>\n",
              "      <th></th>\n",
              "      <th></th>\n",
              "      <th></th>\n",
              "      <th></th>\n",
              "      <th></th>\n",
              "    </tr>\n",
              "  </thead>\n",
              "  <tbody>\n",
              "    <tr>\n",
              "      <th>2021-09-26 17:50:00</th>\n",
              "      <td>43107.64</td>\n",
              "      <td>43180.00</td>\n",
              "      <td>43091.68</td>\n",
              "      <td>43145.00</td>\n",
              "      <td>100.86551</td>\n",
              "      <td>4.349957e+06</td>\n",
              "      <td>2901</td>\n",
              "      <td>55.21623</td>\n",
              "      <td>2.381167e+06</td>\n",
              "    </tr>\n",
              "    <tr>\n",
              "      <th>2021-09-26 17:55:00</th>\n",
              "      <td>43131.41</td>\n",
              "      <td>43186.15</td>\n",
              "      <td>43120.00</td>\n",
              "      <td>43200.11</td>\n",
              "      <td>45.81573</td>\n",
              "      <td>1.977439e+06</td>\n",
              "      <td>1867</td>\n",
              "      <td>23.61352</td>\n",
              "      <td>1.019201e+06</td>\n",
              "    </tr>\n",
              "    <tr>\n",
              "      <th>2021-09-26 18:00:00</th>\n",
              "      <td>43145.00</td>\n",
              "      <td>43207.14</td>\n",
              "      <td>43136.64</td>\n",
              "      <td>43193.00</td>\n",
              "      <td>65.24035</td>\n",
              "      <td>2.817177e+06</td>\n",
              "      <td>2317</td>\n",
              "      <td>43.66585</td>\n",
              "      <td>1.885634e+06</td>\n",
              "    </tr>\n",
              "    <tr>\n",
              "      <th>2021-09-26 18:05:00</th>\n",
              "      <td>43198.56</td>\n",
              "      <td>43263.05</td>\n",
              "      <td>43190.77</td>\n",
              "      <td>43177.00</td>\n",
              "      <td>55.27192</td>\n",
              "      <td>2.389203e+06</td>\n",
              "      <td>2409</td>\n",
              "      <td>28.67009</td>\n",
              "      <td>1.239338e+06</td>\n",
              "    </tr>\n",
              "    <tr>\n",
              "      <th>2021-09-26 18:10:00</th>\n",
              "      <td>43193.00</td>\n",
              "      <td>43210.39</td>\n",
              "      <td>43169.24</td>\n",
              "      <td>NaN</td>\n",
              "      <td>45.66022</td>\n",
              "      <td>1.971949e+06</td>\n",
              "      <td>1985</td>\n",
              "      <td>19.50042</td>\n",
              "      <td>8.421708e+05</td>\n",
              "    </tr>\n",
              "  </tbody>\n",
              "</table>\n",
              "</div>"
            ],
            "text/plain": [
              "                         Open  ...  Taker buy quote asset volume\n",
              "Open time                      ...                              \n",
              "2021-09-26 17:50:00  43107.64  ...                  2.381167e+06\n",
              "2021-09-26 17:55:00  43131.41  ...                  1.019201e+06\n",
              "2021-09-26 18:00:00  43145.00  ...                  1.885634e+06\n",
              "2021-09-26 18:05:00  43198.56  ...                  1.239338e+06\n",
              "2021-09-26 18:10:00  43193.00  ...                  8.421708e+05\n",
              "\n",
              "[5 rows x 9 columns]"
            ]
          },
          "execution_count": 108,
          "metadata": {},
          "output_type": "execute_result"
        }
      ]
    },
    {
      "cell_type": "code",
      "metadata": {
        "id": "Lnoze2rdAskB"
      },
      "source": [
        "dataset= df"
      ],
      "execution_count": null,
      "outputs": []
    },
    {
      "cell_type": "code",
      "metadata": {
        "colab": {
          "base_uri": "https://localhost:8080/"
        },
        "id": "X8mbHNAjA0Sn",
        "outputId": "9d0bedc9-67c6-4151-fdbc-0c6ae567fe2b"
      },
      "source": [
        "\n",
        "dataset = pd.concat([\n",
        "    dataset.iloc[:,0],\n",
        "    dataset.iloc[:, 1:len(dataset.columns)].astype('float')], axis = 1)\n",
        "\n",
        "dataset.dtypes"
      ],
      "execution_count": null,
      "outputs": [
        {
          "data": {
            "text/plain": [
              "Open                            float64\n",
              "High                            float64\n",
              "Low                             float64\n",
              "Close                           float64\n",
              "Volume                          float64\n",
              "Qoute Asset Volume              float64\n",
              "No of Trades                    float64\n",
              "Taker buy                       float64\n",
              "Taker buy quote asset volume    float64\n",
              "dtype: object"
            ]
          },
          "execution_count": 85,
          "metadata": {},
          "output_type": "execute_result"
        }
      ]
    },
    {
      "cell_type": "code",
      "metadata": {
        "colab": {
          "background_save": true,
          "base_uri": "https://localhost:8080/"
        },
        "id": "_Dd34Ud9A4wC",
        "outputId": "f5c399a7-cfef-4738-b27f-98bd1fae51fe"
      },
      "source": [
        "cols = list([ 'Open time', 'Open', 'High', 'Low', 'Close', 'Volume',\n",
        "        'Qoute Asset Volume', 'No of Trades', 'Taker buy',\n",
        "        'Taker buy quote asset volume'])\n",
        "\n",
        "y_target = 'Close'\n",
        " \n",
        "n_time_steps = 24\n",
        "\n",
        "dataset_datelist = list(dataset.index)\n",
        "print('Training set shape == {}'.format(dataset.shape))\n",
        "print('All timestamps == {}'.format(len(dataset_datelist)))\n",
        "print('Featured selected: {}'.format(cols))\n",
        "print('Featured target selected: {}'.format(y_target))\n",
        "print('Number of time steps selected: {}'.format(n_time_steps))\n"
      ],
      "execution_count": null,
      "outputs": [
        {
          "name": "stdout",
          "output_type": "stream",
          "text": [
            "Training set shape == (2879, 9)\n",
            "All timestamps == 2879\n",
            "Featured selected: ['Open time', 'Open', 'High', 'Low', 'Close', 'Volume', 'Qoute Asset Volume', 'No of Trades', 'Taker buy', 'Taker buy quote asset volume']\n",
            "Featured target selected: Close\n",
            "Number of time steps selected: 24\n"
          ]
        }
      ]
    },
    {
      "cell_type": "code",
      "metadata": {
        "colab": {
          "base_uri": "https://localhost:8080/"
        },
        "id": "mHGZ0n7-A-IX",
        "outputId": "1b63bd46-b66e-46fc-8bdb-f262153c2111"
      },
      "source": [
        "train_split = 0.8\n",
        "Data = dataset.values\n",
        "train_data_size = math.ceil(len(Data)*train_split)\n",
        "test_data_size = len(dataset) - train_data_size\n",
        "print('train size == {}.'.format(train_data_size))\n",
        "print('test size == {}.'.format(test_data_size))\n",
        "\n",
        "train, test = dataset[0:train_data_size], dataset[train_data_size:len(dataset)]\n",
        "print('train shape == {}.'.format(train.shape))\n",
        "print('test shape == {}.'.format(test.shape))\n",
        "\n",
        "\n",
        "\n",
        "print(train)"
      ],
      "execution_count": null,
      "outputs": [
        {
          "name": "stdout",
          "output_type": "stream",
          "text": [
            "train size == 2304.\n",
            "test size == 575.\n",
            "train shape == (2304, 9).\n",
            "test shape == (575, 9).\n",
            "                         Open  ...  Taker buy quote asset volume\n",
            "Open time                      ...                              \n",
            "2021-09-16 18:00:00  47397.43  ...                  8.389640e+06\n",
            "2021-09-16 18:05:00  47563.07  ...                  2.798995e+06\n",
            "2021-09-16 18:10:00  47489.44  ...                  2.687692e+06\n",
            "2021-09-16 18:15:00  47470.01  ...                  4.682231e+06\n",
            "2021-09-16 18:20:00  47327.33  ...                  8.254459e+06\n",
            "...                       ...  ...                           ...\n",
            "2021-09-24 17:35:00  41873.81  ...                  2.633456e+06\n",
            "2021-09-24 17:40:00  41896.13  ...                  1.765425e+06\n",
            "2021-09-24 17:45:00  41891.97  ...                  2.949745e+06\n",
            "2021-09-24 17:50:00  41950.17  ...                  2.448255e+06\n",
            "2021-09-24 17:55:00  41917.70  ...                  1.751520e+06\n",
            "\n",
            "[2304 rows x 9 columns]\n"
          ]
        }
      ]
    },
    {
      "cell_type": "code",
      "metadata": {
        "colab": {
          "base_uri": "https://localhost:8080/"
        },
        "id": "bET6TqbHBEL4",
        "outputId": "301076f3-1738-4633-81b1-0cc40545be18"
      },
      "source": [
        "from sklearn.preprocessing import StandardScaler\n",
        "scaler = StandardScaler()\n",
        "training_scaled_data = scaler.fit_transform(train)\n",
        "print('training scaled data shape == {}.'.format(training_scaled_data.shape))\n",
        "look_back_train_data = train.tail(n_time_steps)\n",
        "testing_data = look_back_train_data.append(test)\n",
        "scaler_test = StandardScaler()\n",
        "testing_scaled_data = scaler_test.fit_transform(testing_data)\n",
        "scaler_test_predict = StandardScaler()\n",
        "scaler_test_predict.fit_transform(testing_data.iloc[:, 0:1])\n",
        "print('testing scaled data shape == {}.'.format(testing_scaled_data.shape))\n"
      ],
      "execution_count": null,
      "outputs": [
        {
          "name": "stdout",
          "output_type": "stream",
          "text": [
            "training scaled data shape == (2304, 9).\n",
            "testing scaled data shape == (599, 9).\n"
          ]
        }
      ]
    },
    {
      "cell_type": "code",
      "metadata": {
        "colab": {
          "base_uri": "https://localhost:8080/"
        },
        "id": "y7SoOCIzBHDy",
        "outputId": "b4f27aaa-e66f-484b-9414-13d2822c3c2d"
      },
      "source": [
        "\n",
        "from numpy import *\n",
        "def split_sequences_multivariate_output(sequences, n_steps):\n",
        "\n",
        "  X, y = list(), list()\n",
        "  for i in range(len(sequences)):\n",
        "      end_ix = i + n_steps\n",
        "      if end_ix > len(sequences)-1:\n",
        "          break\n",
        "      seq_x, seq_y = sequences[i:end_ix, :], sequences[end_ix, :]\n",
        "      X.append(seq_x)\n",
        "      y.append(seq_y)\n",
        "  return array(X), array(y)\n",
        "# convert into input/output\n",
        "X_train, y_train = split_sequences_multivariate_output(training_scaled_data, n_time_steps)\n",
        "X_test, y_test = split_sequences_multivariate_output(testing_scaled_data, n_time_steps)\n",
        "print('X_train shape == {}.'.format(X_train.shape))\n",
        "print('y_train shape == {}.'.format(y_train.shape))\n",
        "print('X_test shape == {}.'.format(X_test.shape))\n",
        "print('y_test shape == {}.'.format(y_test.shape))"
      ],
      "execution_count": null,
      "outputs": [
        {
          "name": "stdout",
          "output_type": "stream",
          "text": [
            "X_train shape == (2280, 24, 9).\n",
            "y_train shape == (2280, 9).\n",
            "X_test shape == (575, 24, 9).\n",
            "y_test shape == (575, 9).\n"
          ]
        }
      ]
    },
    {
      "cell_type": "code",
      "metadata": {
        "id": "hRCJ9UnQBHMj"
      },
      "source": [
        "def train_keras_model(X_train, y_train, X_test, y_test, epochs, batch_size, shuffle=False):\n",
        "  from tensorflow.keras.models import Sequential\n",
        "  from tensorflow.keras.layers import LSTM, Dropout, Dense\n",
        "# Initializing the Neural Network based on LSTM\n",
        "  model = Sequential()  \n",
        "  model.add(LSTM(units=50,return_sequences=True,input_shape=(X_train.shape[1], X_train.shape[2])))\n",
        "  model.add(Dropout(0.25))\n",
        "  model.add(LSTM(units=50))\n",
        "  model.add(Dropout(0.25))\n",
        "  model.add(Dense(units=X_train.shape[2], activation='linear'))\n",
        "  model.compile(optimizer='adam',loss='mean_squared_error')\n",
        "  \n",
        "  history = model.fit(X_train, y_train, shuffle=shuffle, validation_data=(X_test, y_test), epochs=epochs, verbose=2, batch_size=batch_size).history\n",
        "  \n",
        "  return history, model"
      ],
      "execution_count": null,
      "outputs": []
    },
    {
      "cell_type": "code",
      "metadata": {
        "colab": {
          "base_uri": "https://localhost:8080/"
        },
        "id": "FFAA0PrDBR1s",
        "outputId": "68e3756f-f9d7-46ef-9a60-e14e7d3c0850"
      },
      "source": [
        "\n",
        "history, model = train_keras_model(X_train, y_train, X_test, y_test, epochs=200, batch_size=256, shuffle=False)"
      ],
      "execution_count": null,
      "outputs": [
        {
          "name": "stdout",
          "output_type": "stream",
          "text": [
            "Epoch 1/200\n",
            "9/9 - 5s - loss: 0.8696 - val_loss: nan\n",
            "Epoch 2/200\n",
            "9/9 - 1s - loss: 0.6143 - val_loss: nan\n",
            "Epoch 3/200\n",
            "9/9 - 1s - loss: 0.5443 - val_loss: nan\n",
            "Epoch 4/200\n",
            "9/9 - 1s - loss: 0.5098 - val_loss: nan\n",
            "Epoch 5/200\n",
            "9/9 - 1s - loss: 0.4846 - val_loss: nan\n",
            "Epoch 6/200\n",
            "9/9 - 1s - loss: 0.4665 - val_loss: nan\n",
            "Epoch 7/200\n",
            "9/9 - 1s - loss: 0.4485 - val_loss: nan\n",
            "Epoch 8/200\n",
            "9/9 - 1s - loss: 0.4307 - val_loss: nan\n",
            "Epoch 9/200\n",
            "9/9 - 1s - loss: 0.4263 - val_loss: nan\n",
            "Epoch 10/200\n",
            "9/9 - 1s - loss: 0.4116 - val_loss: nan\n",
            "Epoch 11/200\n",
            "9/9 - 1s - loss: 0.3985 - val_loss: nan\n",
            "Epoch 12/200\n",
            "9/9 - 1s - loss: 0.3914 - val_loss: nan\n",
            "Epoch 13/200\n",
            "9/9 - 1s - loss: 0.3872 - val_loss: nan\n",
            "Epoch 14/200\n",
            "9/9 - 1s - loss: 0.3736 - val_loss: nan\n",
            "Epoch 15/200\n",
            "9/9 - 1s - loss: 0.3731 - val_loss: nan\n",
            "Epoch 16/200\n",
            "9/9 - 1s - loss: 0.3755 - val_loss: nan\n",
            "Epoch 17/200\n",
            "9/9 - 1s - loss: 0.3680 - val_loss: nan\n",
            "Epoch 18/200\n",
            "9/9 - 1s - loss: 0.3572 - val_loss: nan\n",
            "Epoch 19/200\n",
            "9/9 - 1s - loss: 0.3558 - val_loss: nan\n",
            "Epoch 20/200\n",
            "9/9 - 1s - loss: 0.3506 - val_loss: nan\n",
            "Epoch 21/200\n",
            "9/9 - 1s - loss: 0.3524 - val_loss: nan\n",
            "Epoch 22/200\n",
            "9/9 - 1s - loss: 0.3505 - val_loss: nan\n",
            "Epoch 23/200\n",
            "9/9 - 1s - loss: 0.3476 - val_loss: nan\n",
            "Epoch 24/200\n",
            "9/9 - 1s - loss: 0.3406 - val_loss: nan\n",
            "Epoch 25/200\n",
            "9/9 - 1s - loss: 0.3359 - val_loss: nan\n",
            "Epoch 26/200\n",
            "9/9 - 1s - loss: 0.3348 - val_loss: nan\n",
            "Epoch 27/200\n",
            "9/9 - 1s - loss: 0.3224 - val_loss: nan\n",
            "Epoch 28/200\n",
            "9/9 - 1s - loss: 0.3230 - val_loss: nan\n",
            "Epoch 29/200\n",
            "9/9 - 1s - loss: 0.3153 - val_loss: nan\n",
            "Epoch 30/200\n",
            "9/9 - 1s - loss: 0.3152 - val_loss: nan\n",
            "Epoch 31/200\n",
            "9/9 - 1s - loss: 0.3135 - val_loss: nan\n",
            "Epoch 32/200\n",
            "9/9 - 1s - loss: 0.3145 - val_loss: nan\n",
            "Epoch 33/200\n",
            "9/9 - 1s - loss: 0.3143 - val_loss: nan\n",
            "Epoch 34/200\n",
            "9/9 - 1s - loss: 0.3081 - val_loss: nan\n",
            "Epoch 35/200\n",
            "9/9 - 1s - loss: 0.3086 - val_loss: nan\n",
            "Epoch 36/200\n",
            "9/9 - 1s - loss: 0.3091 - val_loss: nan\n",
            "Epoch 37/200\n",
            "9/9 - 1s - loss: 0.3136 - val_loss: nan\n",
            "Epoch 38/200\n",
            "9/9 - 1s - loss: 0.3051 - val_loss: nan\n",
            "Epoch 39/200\n",
            "9/9 - 1s - loss: 0.3060 - val_loss: nan\n",
            "Epoch 40/200\n",
            "9/9 - 1s - loss: 0.3167 - val_loss: nan\n",
            "Epoch 41/200\n",
            "9/9 - 1s - loss: 0.3062 - val_loss: nan\n",
            "Epoch 42/200\n",
            "9/9 - 1s - loss: 0.3095 - val_loss: nan\n",
            "Epoch 43/200\n",
            "9/9 - 1s - loss: 0.3182 - val_loss: nan\n",
            "Epoch 44/200\n",
            "9/9 - 1s - loss: 0.3133 - val_loss: nan\n",
            "Epoch 45/200\n",
            "9/9 - 1s - loss: 0.3017 - val_loss: nan\n",
            "Epoch 46/200\n",
            "9/9 - 1s - loss: 0.3012 - val_loss: nan\n",
            "Epoch 47/200\n",
            "9/9 - 1s - loss: 0.3126 - val_loss: nan\n",
            "Epoch 48/200\n",
            "9/9 - 1s - loss: 0.3043 - val_loss: nan\n",
            "Epoch 49/200\n",
            "9/9 - 1s - loss: 0.2995 - val_loss: nan\n",
            "Epoch 50/200\n",
            "9/9 - 1s - loss: 0.2990 - val_loss: nan\n",
            "Epoch 51/200\n",
            "9/9 - 1s - loss: 0.2925 - val_loss: nan\n",
            "Epoch 52/200\n",
            "9/9 - 1s - loss: 0.2984 - val_loss: nan\n",
            "Epoch 53/200\n",
            "9/9 - 1s - loss: 0.2961 - val_loss: nan\n",
            "Epoch 54/200\n",
            "9/9 - 1s - loss: 0.2927 - val_loss: nan\n",
            "Epoch 55/200\n",
            "9/9 - 1s - loss: 0.2945 - val_loss: nan\n",
            "Epoch 56/200\n",
            "9/9 - 1s - loss: 0.2912 - val_loss: nan\n",
            "Epoch 57/200\n",
            "9/9 - 1s - loss: 0.2952 - val_loss: nan\n",
            "Epoch 58/200\n",
            "9/9 - 1s - loss: 0.2924 - val_loss: nan\n",
            "Epoch 59/200\n",
            "9/9 - 1s - loss: 0.2880 - val_loss: nan\n",
            "Epoch 60/200\n",
            "9/9 - 1s - loss: 0.2970 - val_loss: nan\n",
            "Epoch 61/200\n",
            "9/9 - 1s - loss: 0.2967 - val_loss: nan\n",
            "Epoch 62/200\n",
            "9/9 - 1s - loss: 0.2924 - val_loss: nan\n",
            "Epoch 63/200\n",
            "9/9 - 1s - loss: 0.2893 - val_loss: nan\n",
            "Epoch 64/200\n",
            "9/9 - 1s - loss: 0.2931 - val_loss: nan\n",
            "Epoch 65/200\n",
            "9/9 - 1s - loss: 0.2836 - val_loss: nan\n",
            "Epoch 66/200\n",
            "9/9 - 1s - loss: 0.2851 - val_loss: nan\n",
            "Epoch 67/200\n",
            "9/9 - 1s - loss: 0.2797 - val_loss: nan\n",
            "Epoch 68/200\n",
            "9/9 - 1s - loss: 0.2797 - val_loss: nan\n",
            "Epoch 69/200\n",
            "9/9 - 1s - loss: 0.2785 - val_loss: nan\n",
            "Epoch 70/200\n",
            "9/9 - 1s - loss: 0.2746 - val_loss: nan\n",
            "Epoch 71/200\n",
            "9/9 - 1s - loss: 0.2858 - val_loss: nan\n",
            "Epoch 72/200\n",
            "9/9 - 1s - loss: 0.2818 - val_loss: nan\n",
            "Epoch 73/200\n",
            "9/9 - 1s - loss: 0.2730 - val_loss: nan\n",
            "Epoch 74/200\n",
            "9/9 - 1s - loss: 0.2776 - val_loss: nan\n",
            "Epoch 75/200\n",
            "9/9 - 1s - loss: 0.2765 - val_loss: nan\n",
            "Epoch 76/200\n",
            "9/9 - 1s - loss: 0.2782 - val_loss: nan\n",
            "Epoch 77/200\n",
            "9/9 - 1s - loss: 0.2737 - val_loss: nan\n",
            "Epoch 78/200\n",
            "9/9 - 1s - loss: 0.2768 - val_loss: nan\n",
            "Epoch 79/200\n",
            "9/9 - 1s - loss: 0.2782 - val_loss: nan\n",
            "Epoch 80/200\n",
            "9/9 - 1s - loss: 0.2848 - val_loss: nan\n",
            "Epoch 81/200\n",
            "9/9 - 1s - loss: 0.2789 - val_loss: nan\n",
            "Epoch 82/200\n",
            "9/9 - 1s - loss: 0.2753 - val_loss: nan\n",
            "Epoch 83/200\n",
            "9/9 - 1s - loss: 0.2761 - val_loss: nan\n",
            "Epoch 84/200\n",
            "9/9 - 1s - loss: 0.2766 - val_loss: nan\n",
            "Epoch 85/200\n",
            "9/9 - 1s - loss: 0.2704 - val_loss: nan\n",
            "Epoch 86/200\n",
            "9/9 - 1s - loss: 0.2767 - val_loss: nan\n",
            "Epoch 87/200\n",
            "9/9 - 1s - loss: 0.2621 - val_loss: nan\n",
            "Epoch 88/200\n",
            "9/9 - 1s - loss: 0.2839 - val_loss: nan\n",
            "Epoch 89/200\n",
            "9/9 - 1s - loss: 0.2729 - val_loss: nan\n",
            "Epoch 90/200\n",
            "9/9 - 1s - loss: 0.2710 - val_loss: nan\n",
            "Epoch 91/200\n",
            "9/9 - 1s - loss: 0.2564 - val_loss: nan\n",
            "Epoch 92/200\n",
            "9/9 - 1s - loss: 0.2672 - val_loss: nan\n",
            "Epoch 93/200\n",
            "9/9 - 1s - loss: 0.2616 - val_loss: nan\n",
            "Epoch 94/200\n",
            "9/9 - 1s - loss: 0.2580 - val_loss: nan\n",
            "Epoch 95/200\n",
            "9/9 - 1s - loss: 0.2548 - val_loss: nan\n",
            "Epoch 96/200\n",
            "9/9 - 1s - loss: 0.2644 - val_loss: nan\n",
            "Epoch 97/200\n",
            "9/9 - 1s - loss: 0.2605 - val_loss: nan\n",
            "Epoch 98/200\n",
            "9/9 - 1s - loss: 0.2569 - val_loss: nan\n",
            "Epoch 99/200\n",
            "9/9 - 1s - loss: 0.2661 - val_loss: nan\n",
            "Epoch 100/200\n",
            "9/9 - 1s - loss: 0.2583 - val_loss: nan\n",
            "Epoch 101/200\n",
            "9/9 - 1s - loss: 0.2540 - val_loss: nan\n",
            "Epoch 102/200\n",
            "9/9 - 1s - loss: 0.2548 - val_loss: nan\n",
            "Epoch 103/200\n",
            "9/9 - 1s - loss: 0.2565 - val_loss: nan\n",
            "Epoch 104/200\n",
            "9/9 - 1s - loss: 0.2519 - val_loss: nan\n",
            "Epoch 105/200\n",
            "9/9 - 1s - loss: 0.2475 - val_loss: nan\n",
            "Epoch 106/200\n",
            "9/9 - 1s - loss: 0.2521 - val_loss: nan\n",
            "Epoch 107/200\n",
            "9/9 - 1s - loss: 0.2533 - val_loss: nan\n",
            "Epoch 108/200\n",
            "9/9 - 1s - loss: 0.2540 - val_loss: nan\n",
            "Epoch 109/200\n",
            "9/9 - 1s - loss: 0.2406 - val_loss: nan\n",
            "Epoch 110/200\n",
            "9/9 - 1s - loss: 0.2441 - val_loss: nan\n",
            "Epoch 111/200\n",
            "9/9 - 1s - loss: 0.2482 - val_loss: nan\n",
            "Epoch 112/200\n",
            "9/9 - 1s - loss: 0.2438 - val_loss: nan\n",
            "Epoch 113/200\n",
            "9/9 - 1s - loss: 0.2508 - val_loss: nan\n",
            "Epoch 114/200\n",
            "9/9 - 1s - loss: 0.2458 - val_loss: nan\n",
            "Epoch 115/200\n",
            "9/9 - 1s - loss: 0.2631 - val_loss: nan\n",
            "Epoch 116/200\n",
            "9/9 - 1s - loss: 0.2625 - val_loss: nan\n",
            "Epoch 117/200\n",
            "9/9 - 1s - loss: 0.2633 - val_loss: nan\n",
            "Epoch 118/200\n",
            "9/9 - 1s - loss: 0.2448 - val_loss: nan\n",
            "Epoch 119/200\n",
            "9/9 - 1s - loss: 0.2437 - val_loss: nan\n",
            "Epoch 120/200\n",
            "9/9 - 1s - loss: 0.2425 - val_loss: nan\n",
            "Epoch 121/200\n",
            "9/9 - 1s - loss: 0.2512 - val_loss: nan\n",
            "Epoch 122/200\n",
            "9/9 - 1s - loss: 0.2400 - val_loss: nan\n",
            "Epoch 123/200\n",
            "9/9 - 1s - loss: 0.2387 - val_loss: nan\n",
            "Epoch 124/200\n",
            "9/9 - 1s - loss: 0.2404 - val_loss: nan\n",
            "Epoch 125/200\n",
            "9/9 - 1s - loss: 0.2367 - val_loss: nan\n",
            "Epoch 126/200\n",
            "9/9 - 1s - loss: 0.2413 - val_loss: nan\n",
            "Epoch 127/200\n",
            "9/9 - 1s - loss: 0.2331 - val_loss: nan\n",
            "Epoch 128/200\n",
            "9/9 - 1s - loss: 0.2513 - val_loss: nan\n",
            "Epoch 129/200\n",
            "9/9 - 1s - loss: 0.2427 - val_loss: nan\n",
            "Epoch 130/200\n",
            "9/9 - 1s - loss: 0.2422 - val_loss: nan\n",
            "Epoch 131/200\n",
            "9/9 - 1s - loss: 0.2484 - val_loss: nan\n",
            "Epoch 132/200\n",
            "9/9 - 1s - loss: 0.2378 - val_loss: nan\n",
            "Epoch 133/200\n",
            "9/9 - 1s - loss: 0.2337 - val_loss: nan\n",
            "Epoch 134/200\n",
            "9/9 - 1s - loss: 0.2473 - val_loss: nan\n",
            "Epoch 135/200\n",
            "9/9 - 1s - loss: 0.2371 - val_loss: nan\n",
            "Epoch 136/200\n",
            "9/9 - 1s - loss: 0.2314 - val_loss: nan\n",
            "Epoch 137/200\n",
            "9/9 - 1s - loss: 0.2421 - val_loss: nan\n",
            "Epoch 138/200\n",
            "9/9 - 1s - loss: 0.2367 - val_loss: nan\n",
            "Epoch 139/200\n",
            "9/9 - 1s - loss: 0.2364 - val_loss: nan\n",
            "Epoch 140/200\n",
            "9/9 - 1s - loss: 0.2303 - val_loss: nan\n",
            "Epoch 141/200\n",
            "9/9 - 1s - loss: 0.2309 - val_loss: nan\n",
            "Epoch 142/200\n",
            "9/9 - 1s - loss: 0.2375 - val_loss: nan\n",
            "Epoch 143/200\n",
            "9/9 - 1s - loss: 0.2430 - val_loss: nan\n",
            "Epoch 144/200\n",
            "9/9 - 1s - loss: 0.2313 - val_loss: nan\n",
            "Epoch 145/200\n",
            "9/9 - 1s - loss: 0.2379 - val_loss: nan\n",
            "Epoch 146/200\n",
            "9/9 - 1s - loss: 0.2338 - val_loss: nan\n",
            "Epoch 147/200\n",
            "9/9 - 1s - loss: 0.2342 - val_loss: nan\n",
            "Epoch 148/200\n",
            "9/9 - 1s - loss: 0.2380 - val_loss: nan\n",
            "Epoch 149/200\n",
            "9/9 - 1s - loss: 0.2308 - val_loss: nan\n",
            "Epoch 150/200\n",
            "9/9 - 1s - loss: 0.2327 - val_loss: nan\n",
            "Epoch 151/200\n",
            "9/9 - 1s - loss: 0.2356 - val_loss: nan\n",
            "Epoch 152/200\n",
            "9/9 - 1s - loss: 0.2267 - val_loss: nan\n",
            "Epoch 153/200\n",
            "9/9 - 1s - loss: 0.2257 - val_loss: nan\n",
            "Epoch 154/200\n",
            "9/9 - 1s - loss: 0.2268 - val_loss: nan\n",
            "Epoch 155/200\n",
            "9/9 - 1s - loss: 0.2238 - val_loss: nan\n",
            "Epoch 156/200\n",
            "9/9 - 1s - loss: 0.2254 - val_loss: nan\n",
            "Epoch 157/200\n",
            "9/9 - 1s - loss: 0.2211 - val_loss: nan\n",
            "Epoch 158/200\n",
            "9/9 - 1s - loss: 0.2248 - val_loss: nan\n",
            "Epoch 159/200\n",
            "9/9 - 1s - loss: 0.2234 - val_loss: nan\n",
            "Epoch 160/200\n",
            "9/9 - 1s - loss: 0.2316 - val_loss: nan\n",
            "Epoch 161/200\n",
            "9/9 - 1s - loss: 0.2231 - val_loss: nan\n",
            "Epoch 162/200\n",
            "9/9 - 1s - loss: 0.2385 - val_loss: nan\n",
            "Epoch 163/200\n",
            "9/9 - 1s - loss: 0.2472 - val_loss: nan\n",
            "Epoch 164/200\n",
            "9/9 - 1s - loss: 0.2374 - val_loss: nan\n",
            "Epoch 165/200\n",
            "9/9 - 1s - loss: 0.2250 - val_loss: nan\n",
            "Epoch 166/200\n",
            "9/9 - 1s - loss: 0.2238 - val_loss: nan\n",
            "Epoch 167/200\n",
            "9/9 - 1s - loss: 0.2256 - val_loss: nan\n",
            "Epoch 168/200\n",
            "9/9 - 1s - loss: 0.2197 - val_loss: nan\n",
            "Epoch 169/200\n",
            "9/9 - 1s - loss: 0.2216 - val_loss: nan\n",
            "Epoch 170/200\n",
            "9/9 - 1s - loss: 0.2185 - val_loss: nan\n",
            "Epoch 171/200\n",
            "9/9 - 1s - loss: 0.2197 - val_loss: nan\n",
            "Epoch 172/200\n",
            "9/9 - 1s - loss: 0.2188 - val_loss: nan\n",
            "Epoch 173/200\n",
            "9/9 - 1s - loss: 0.2212 - val_loss: nan\n",
            "Epoch 174/200\n",
            "9/9 - 1s - loss: 0.2187 - val_loss: nan\n",
            "Epoch 175/200\n",
            "9/9 - 1s - loss: 0.2181 - val_loss: nan\n",
            "Epoch 176/200\n",
            "9/9 - 1s - loss: 0.2186 - val_loss: nan\n",
            "Epoch 177/200\n",
            "9/9 - 1s - loss: 0.2222 - val_loss: nan\n",
            "Epoch 178/200\n",
            "9/9 - 1s - loss: 0.2183 - val_loss: nan\n",
            "Epoch 179/200\n",
            "9/9 - 1s - loss: 0.2199 - val_loss: nan\n",
            "Epoch 180/200\n",
            "9/9 - 1s - loss: 0.2156 - val_loss: nan\n",
            "Epoch 181/200\n",
            "9/9 - 1s - loss: 0.2251 - val_loss: nan\n",
            "Epoch 182/200\n",
            "9/9 - 1s - loss: 0.2166 - val_loss: nan\n",
            "Epoch 183/200\n",
            "9/9 - 1s - loss: 0.2207 - val_loss: nan\n",
            "Epoch 184/200\n",
            "9/9 - 1s - loss: 0.2175 - val_loss: nan\n",
            "Epoch 185/200\n",
            "9/9 - 1s - loss: 0.2094 - val_loss: nan\n",
            "Epoch 186/200\n",
            "9/9 - 1s - loss: 0.2141 - val_loss: nan\n",
            "Epoch 187/200\n",
            "9/9 - 1s - loss: 0.2145 - val_loss: nan\n",
            "Epoch 188/200\n",
            "9/9 - 1s - loss: 0.2149 - val_loss: nan\n",
            "Epoch 189/200\n",
            "9/9 - 1s - loss: 0.2176 - val_loss: nan\n",
            "Epoch 190/200\n",
            "9/9 - 1s - loss: 0.2180 - val_loss: nan\n",
            "Epoch 191/200\n",
            "9/9 - 1s - loss: 0.2062 - val_loss: nan\n",
            "Epoch 192/200\n",
            "9/9 - 1s - loss: 0.2114 - val_loss: nan\n",
            "Epoch 193/200\n",
            "9/9 - 1s - loss: 0.2162 - val_loss: nan\n",
            "Epoch 194/200\n",
            "9/9 - 1s - loss: 0.2184 - val_loss: nan\n",
            "Epoch 195/200\n",
            "9/9 - 1s - loss: 0.2141 - val_loss: nan\n",
            "Epoch 196/200\n",
            "9/9 - 1s - loss: 0.2189 - val_loss: nan\n",
            "Epoch 197/200\n",
            "9/9 - 1s - loss: 0.2119 - val_loss: nan\n",
            "Epoch 198/200\n",
            "9/9 - 1s - loss: 0.2218 - val_loss: nan\n",
            "Epoch 199/200\n",
            "9/9 - 1s - loss: 0.2180 - val_loss: nan\n",
            "Epoch 200/200\n",
            "9/9 - 1s - loss: 0.2123 - val_loss: nan\n"
          ]
        }
      ]
    },
    {
      "cell_type": "code",
      "metadata": {
        "id": "gFtUD0XfBR93"
      },
      "source": [
        "# Performing predictions\n",
        "predictions_test = model.predict(X_test)\n",
        "\n",
        "y_pred_test = scaler_test_predict.inverse_transform(np.array(predictions_test)[:,0])\n",
        "y_actual_test = scaler_test_predict.inverse_transform(np.array(y_test)[:,0])"
      ],
      "execution_count": null,
      "outputs": []
    },
    {
      "cell_type": "code",
      "metadata": {
        "id": "BXaO_gidBSLd"
      },
      "source": [
        "y_test_serie = pd.DataFrame(y_actual_test, columns=[y_target]).set_index(testing_data[n_time_steps:].index)\n",
        "y_pred_serie = pd.DataFrame(y_pred_test, columns=[y_target]).set_index(testing_data[n_time_steps:].index)"
      ],
      "execution_count": null,
      "outputs": []
    },
    {
      "cell_type": "code",
      "metadata": {
        "colab": {
          "base_uri": "https://localhost:8080/",
          "height": 352
        },
        "id": "Wu5xiO1BBbm2",
        "outputId": "d4f184b2-d51b-49fe-ea47-cd4f53bb220b"
      },
      "source": [
        "import matplotlib.pyplot as plt\n",
        "\n",
        "\n",
        "plt.plot(y_test_serie.index, y_test_serie[y_target], color='green', linewidth=2, label='Actual')\n",
        "plt.plot(y_pred_serie.index, y_pred_serie[y_target], color='red', linewidth=2, label='Predictions')\n",
        "plt.grid(which='major', color='#cccccc', alpha=0.5)\n",
        "plt.legend(shadow=True)\n",
        "plt.title('Predictions Vs Actual')\n",
        "plt.xlabel('Timeline', fontsize=10)\n",
        "plt.ylabel('Value', fontsize=10)\n",
        "plt.xticks(rotation=45, fontsize=8)\n",
        "plt.show()\n"
      ],
      "execution_count": null,
      "outputs": [
        {
          "data": {
            "image/png": "[encoded data removed]",
            "text/plain": [
              "<Figure size 432x288 with 1 Axes>"
            ]
          },
          "metadata": {},
          "output_type": "display_data"
        }
      ]
    },
    {
      "cell_type": "code",
      "metadata": {
        "id": "3oW4zCpZT2Iw"
      },
      "source": [
        "dataset.tail()"
      ],
      "execution_count": null,
      "outputs": []
    },
    {
      "cell_type": "code",
      "metadata": {
        "colab": {
          "base_uri": "https://localhost:8080/"
        },
        "id": "_cxPrx31BbyA",
        "outputId": "f3dda2a7-a006-4812-f291-922016336186"
      },
      "source": [
        "print(\"Next predicted close price: \", (y_pred_test)[0])"
      ],
      "execution_count": null,
      "outputs": [
        {
          "name": "stdout",
          "output_type": "stream",
          "text": [
            "Next predicted close price:  41997.477\n"
          ]
        }
      ]
    },
    {
      "cell_type": "code",
      "metadata": {
        "id": "LPpQZlCEBuYO"
      },
      "source": [
        "#(dataset.index).values[-1]\n",
        "chosen_interval = \"\".join(interval_chosen)\n",
        "num_interval = \"\". join(filter(str.isdigit, chosen_interval))\n"
      ],
      "execution_count": null,
      "outputs": []
    },
    {
      "cell_type": "code",
      "metadata": {
        "colab": {
          "base_uri": "https://localhost:8080/",
          "height": 35
        },
        "id": "1JJ3aki0CwvC",
        "outputId": "7934023f-9d8f-4e0c-fa83-c84981201723"
      },
      "source": [
        "num_interval"
      ],
      "execution_count": null,
      "outputs": [
        {
          "data": {
            "application/vnd.google.colaboratory.intrinsic+json": {
              "type": "string"
            },
            "text/plain": [
              "'55'"
            ]
          },
          "execution_count": 68,
          "metadata": {},
          "output_type": "execute_result"
        }
      ]
    },
    {
      "cell_type": "code",
      "metadata": {
        "id": "_3VBHOmuBuib"
      },
      "source": [
        "def time_for_pred():\n",
        "\n",
        "  #taking the time of last avaiable values\n",
        "  dt_str = (dataset.index).values[-1]\n",
        "  #converting string to datetime format\n",
        "  dt_obj = datetime.strptime(dt_str, '%Y-%m-%d %H:%M:%S')\n",
        "  # print(dt_obj)\n",
        "\n",
        "  #adding minutes of predicted value\n",
        "  dt_obj=dt_obj+timedelta(minutes=int(num_interval))\n",
        "  #converting to string\n",
        "  dt_obj=dt_obj.strftime ('%Y-%m-%d %H:%M:%S')\n",
        "  # dt_obj=datetime.strptime(dt_obj, '%Y-%m-%d %H:%M:%S')\n",
        "  return dt_obj"
      ],
      "execution_count": null,
      "outputs": []
    },
    {
      "cell_type": "code",
      "metadata": {
        "colab": {
          "base_uri": "https://localhost:8080/",
          "height": 35
        },
        "id": "BA2P6IsVB1ix",
        "outputId": "aa25fb5e-5d7c-4468-cebc-f3f3ab53416f"
      },
      "source": [
        "time_for_pred()"
      ],
      "execution_count": null,
      "outputs": [
        {
          "data": {
            "application/vnd.google.colaboratory.intrinsic+json": {
              "type": "string"
            },
            "text/plain": [
              "'2021-09-26 16:55:00'"
            ]
          },
          "execution_count": 43,
          "metadata": {},
          "output_type": "execute_result"
        }
      ]
    },
    {
      "cell_type": "code",
      "metadata": {
        "colab": {
          "base_uri": "https://localhost:8080/",
          "height": 610
        },
        "id": "5jzc3lkcB4mO",
        "outputId": "25c3e99a-c8eb-4a46-906d-3adc7b474225"
      },
      "source": [
        "figure, ax=plt.subplots(2,figsize=(10,10))\n",
        "  \n",
        "ax[0].scatter(time_for_pred(),(y_pred_test)[0], label='Next Close Price Prediction')\n",
        "ax[0].legend()"
      ],
      "execution_count": null,
      "outputs": [
        {
          "data": {
            "text/plain": [
              "<matplotlib.legend.Legend at 0x7f519b08a050>"
            ]
          },
          "execution_count": 100,
          "metadata": {},
          "output_type": "execute_result"
        },
        {
          "data": {
            "image/png": "[encoded data removed]",
            "text/plain": [
              "<Figure size 720x720 with 2 Axes>"
            ]
          },
          "metadata": {},
          "output_type": "display_data"
        }
      ]
    },
    {
      "cell_type": "code",
      "metadata": {
        "colab": {
          "base_uri": "https://localhost:8080/"
        },
        "id": "UQALRqDMDaLi",
        "outputId": "297d0ec9-456b-41af-ed10-7c6a522683a6"
      },
      "source": [
        "print(\"Next predicted close price: \", (y_pred_test)[0])"
      ],
      "execution_count": null,
      "outputs": [
        {
          "name": "stdout",
          "output_type": "stream",
          "text": [
            "Next predicted close price:  41997.477\n"
          ]
        }
      ]
    }
  ]
}
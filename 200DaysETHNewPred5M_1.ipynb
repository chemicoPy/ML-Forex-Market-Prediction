{
  "nbformat": 4,
  "nbformat_minor": 0,
  "metadata": {
    "accelerator": "TPU",
    "colab": {
      "name": "200DaysETHNewPred5M-1.ipynb",
      "provenance": [],
      "collapsed_sections": [],
      "include_colab_link": true
    },
    "kernelspec": {
      "display_name": "Python 3",
      "name": "python3"
    },
    "language_info": {
      "name": "python"
    }
  },
  "cells": [
    {
      "cell_type": "markdown",
      "metadata": {
        "id": "view-in-github",
        "colab_type": "text"
      },
      "source": [
        "<a href=\"https://colab.research.google.com/github/chemicoPy/ML-Forex-Market-Prediction/blob/Regression-%26-ARIMA/200DaysETHNewPred5M_1.ipynb\" target=\"_parent\"><img src=\"https://colab.research.google.com/assets/colab-badge.svg\" alt=\"Open In Colab\"/></a>"
      ]
    },
    {
      "cell_type": "code",
      "metadata": {
        "id": "NJLjIhWRx-UV"
      },
      "source": [
        "pip install python-binance"
      ],
      "execution_count": null,
      "outputs": []
    },
    {
      "cell_type": "code",
      "metadata": {
        "colab": {
          "base_uri": "https://localhost:8080/"
        },
        "id": "ZnDRTKRvyEJc",
        "outputId": "fd1d1b58-0663-4ef8-c737-7b615dd2b95a"
      },
      "source": [
        "from google.colab import drive\n",
        "drive.mount('/content/drive')"
      ],
      "execution_count": null,
      "outputs": [
        {
          "output_type": "stream",
          "name": "stdout",
          "text": [
            "Mounted at /content/drive\n"
          ]
        }
      ]
    },
    {
      "cell_type": "code",
      "metadata": {
        "id": "4qbmx-L6yGHe"
      },
      "source": [
        "import pandas as pd\n",
        "import numpy as np\n",
        "from sklearn.ensemble import RandomForestRegressor\n",
        "from binance.client import Client\n",
        "from datetime import datetime, timedelta, date\n",
        "import matplotlib.pyplot as plt\n",
        "import time\n",
        "import os\n",
        "from IPython.display import clear_output"
      ],
      "execution_count": null,
      "outputs": []
    },
    {
      "cell_type": "code",
      "metadata": {
        "colab": {
          "base_uri": "https://localhost:8080/",
          "height": 53
        },
        "id": "JCo8iL5OVuB2",
        "outputId": "2e3b053c-f6b1-43fa-be08-167f45af95ff"
      },
      "source": [
        "dir_link=input('Enter Link of directory')\n",
        "file_name='/binance_data.csv'\n",
        "compl_link=dir_link+file_name\n",
        "compl_link"
      ],
      "execution_count": null,
      "outputs": [
        {
          "name": "stdout",
          "output_type": "stream",
          "text": [
            "Enter Link of directory/content/drive/MyDrive\n"
          ]
        },
        {
          "output_type": "execute_result",
          "data": {
            "application/vnd.google.colaboratory.intrinsic+json": {
              "type": "string"
            },
            "text/plain": [
              "'/content/drive/MyDrive/binance_data.csv'"
            ]
          },
          "metadata": {},
          "execution_count": 15
        }
      ]
    },
    {
      "cell_type": "code",
      "metadata": {
        "colab": {
          "base_uri": "https://localhost:8080/",
          "height": 35
        },
        "id": "00IPTuDBxy-l",
        "outputId": "39bb6591-9b38-4a87-91c5-32407648c766"
      },
      "source": [
        "compl_link"
      ],
      "execution_count": null,
      "outputs": [
        {
          "output_type": "execute_result",
          "data": {
            "application/vnd.google.colaboratory.intrinsic+json": {
              "type": "string"
            },
            "text/plain": [
              "'/content/drive/MyDrive/binance_data.csv'"
            ]
          },
          "metadata": {},
          "execution_count": 16
        }
      ]
    },
    {
      "cell_type": "code",
      "metadata": {
        "id": "8ZSmoWMhyF7e"
      },
      "source": [
        "\n",
        "def data():\n",
        "    API_KEY = 'cmC20L6OdOe6nfS4iD0T3aIYYbGh53G9nsz1kSO4pd5JsVtVbsycpvzxIwN89AEN'\n",
        "    API_SECRET = 'JjyurQGV0hcbsEhsdUQoaoaeA85kw33xRrEJywhOJfI6ZNUvT42RMkQK1ed59gyh'\n",
        "    #API_KEY = 'FiehiL4oASF4FDsR5oAUfBqhdOjR4vwfwQltHbX4ucdr78XY6nA8bKsVorwfMMpt'\n",
        "    #API_SECRET = 'k4pkBSFEjupQN63PYYBDl3mgKrLAMEopKCcy8YcLusi0mBrxyxyCLbQB12awL3QC'\n",
        "    # API_KEY = 'aTrEpYSztGNxooC07JI0mEfFJUud6jg2yOJkhMt9xC5IQBFbq19n5SApaG0eeHoS'\n",
        "    # API_SECRET ='c8AoWE0caEmyGuQuLQSKFPLdcD1UN0T9MBDcuRbWPYT7nlk308XWmU0YzcUwvSwq'\n",
        "\n",
        "    client = Client(API_KEY, API_SECRET)\n",
        "    whole_data = []\n",
        "\n",
        "    all_coins = [\"BNBUSDT\", \"ETHUSDT\", \"ADAUSDT\", \"DOTUSDT\", \"BTCUSDT\", \"FTMUSDT\", \"DOGEUSDT\", \"LINKUSDT\", \"SUSHIUSDT\", \"SOLUSDT\",\n",
        "                 \"IOSTUSDT\", \"LTCUSDT\", \"XRPUSDT\", \"SXPUSDT\", \"MATICUSDT\", \"BCHUSDT\"]\n",
        "\n",
        "\n",
        "\n",
        "\n",
        "    td=timedelta(-10)\n",
        "    time_now = datetime.now()\n",
        "    start1 = time_now + td\n",
        "    start = start1.strftime('%Y-%m-%d- %H:%M:%S')\n",
        "\n",
        "\n",
        "\n",
        "    Current_Date = datetime.today()\n",
        "\n",
        "    end=Current_Date.strftime ('%Y-%m-%d- %H:%M:%S')\n",
        "\n",
        "\n",
        "\n",
        "\n",
        "\n",
        "\n",
        "    # data_of_coin = input('Enter the name of coin along with USDT such BNBUSDT')\n",
        "    data_of_coin='BTCUSDT'\n",
        "\n",
        "    index_of_coin = all_coins.index(data_of_coin)\n",
        "\n",
        "\n",
        "    print(index_of_coin)\n",
        "    coin = all_coins[index_of_coin]\n",
        "    # print(coin)\n",
        "\n",
        "    # interval = input('Enter 5m  for the INTERVAL of 5MINUTE \\n , 15m for the INTERVAL of 15MINUTE, \\n'\n",
        "    #                  '3 for the INTERVAL of 30MINUTE \\n, 4for the INTERVAL of 1 HOUR, \\n'\n",
        "    #                  ' 5 for the INTERVAL of 4HOUR \\n, 8h for the INTERVAL of 8 HOUR \\n')\n",
        "    interval='5m'\n",
        "    dictionary = {'1m': Client.KLINE_INTERVAL_1MINUTE,'5m': Client.KLINE_INTERVAL_5MINUTE, '15m': Client.KLINE_INTERVAL_15MINUTE,\n",
        "                  '30m': Client.KLINE_INTERVAL_30MINUTE, '1h': Client.KLINE_INTERVAL_1HOUR,\n",
        "                  '4h': Client.KLINE_INTERVAL_4HOUR, '8h': Client.KLINE_INTERVAL_8HOUR}\n",
        "    # print('start',start, type(start), 'end', end, type(end) )\n",
        "    for runner in range(0, 1):\n",
        "\n",
        "        name = []\n",
        "        klines = client.get_historical_klines(coin, dictionary[interval], start, end)\n",
        "\n",
        "\n",
        "        # getting name of coin.\n",
        "        for i in klines:\n",
        "            name.append(coin)\n",
        "\n",
        "        df = pd.DataFrame(klines)  # data of coin is prepared.\n",
        "        df['Coin_Name'] = name\n",
        "\n",
        "        whole_data.append(df)\n",
        "        # print(df)\n",
        "\n",
        "    merging_data = pd.concat(whole_data, axis=0)\n",
        "    #print(merging_data)\n",
        "\n",
        "    m_data = merging_data.drop(11, axis=1)\n",
        "    global N_data\n",
        "    N_data = m_data.rename(columns={0: 'Open time', 1: 'Open', 2: 'High', 3: 'Low', 4: 'Close', 5: 'Volume',\n",
        "                                          6: 'Close Time', 7: 'Qoute Asset Volume', 8: 'No of Trades', 9: 'Taker buy',\n",
        "                                          10: 'Taker buy quote asset volume', 'Coin_Name': 'Coin_Name'})\n",
        "\n",
        "    o_t_c = N_data['Open time'] / 1000\n",
        "    c_t_c = N_data['Close Time'] / 1000\n",
        "\n",
        "    o_t_list = []\n",
        "    for timer in o_t_c:\n",
        "        timestamp = datetime.fromtimestamp(timer)\n",
        "        o_t_value = timestamp.strftime('%Y-%m-%d %H:%M:%S')\n",
        "        o_t_list.append(o_t_value)\n",
        "    N_data['Open time'] = o_t_list\n",
        "\n",
        "    c_t_list = []\n",
        "    for timer in c_t_c:\n",
        "        timestamp = datetime.fromtimestamp(timer)\n",
        "        c_t_value = timestamp.strftime('%Y-%m-%d %H:%M:%S')\n",
        "        c_t_list.append(c_t_value)\n",
        "    N_data['Close Time'] = c_t_list\n",
        "    N_data.to_csv(compl_link)\n",
        "    return N_data\n",
        "\n",
        "\n",
        "\n",
        "\n",
        "# print('Data File Created')\n",
        "\n"
      ],
      "execution_count": null,
      "outputs": []
    },
    {
      "cell_type": "code",
      "metadata": {
        "colab": {
          "background_save": true
        },
        "id": "RaQZp2uMyxQO"
      },
      "source": [
        ""
      ],
      "execution_count": null,
      "outputs": []
    },
    {
      "cell_type": "code",
      "metadata": {
        "id": "Sg1WT6HKyFKK"
      },
      "source": [
        "def predic_fun():\n",
        "  global df\n",
        "  df=pd.read_csv(compl_link, index_col='Open time', usecols=[ 'Open time', 'Open', 'High', 'Low', 'Close', 'Volume',\n",
        "        'Qoute Asset Volume', 'No of Trades', 'Taker buy',\n",
        "        'Taker buy quote asset volume'])\n",
        "  df=df[:-1]\n",
        "  global test_df,x_train, y_train\n",
        "  test_df=df\n",
        "  test_df['Close']=test_df['Close'].shift(-1)\n",
        "  data1=test_df.iloc[:-1]\n",
        "  x_train=data1.drop('Close', axis=1)\n",
        "  # y_train=pd.Series(data1['Close'])\n",
        "  y_train=data1['Close']\n",
        "  clf=RandomForestRegressor()\n",
        "  clf.fit(x_train,y_train)\n",
        "  # prediction=clf.predict(test_df.drop('Close',axis=1).iloc[-1:])\n",
        "\n",
        "\n",
        "  # row=-3\n",
        "  usecols=[ 'Open', 'High', 'Low', 'Volume','Qoute Asset Volume', 'No of Trades', 'Taker buy','Taker buy quote asset volume']\n",
        "  global predict_df1\n",
        "  predict_df=[]\n",
        "  for i in usecols:\n",
        "  #     print(i)\n",
        "      try:\n",
        "          model = ARIMA(df[i][:], order=(2,2,5))\n",
        "          model_fit = model.fit()\n",
        "          \n",
        "          predict_df.append((i,model_fit.forecast()[0][0]))\n",
        "      except:\n",
        "          predict_df.append((i,df[i][-1]))\n",
        "          # print(i,df[i][row-1])\n",
        "  # global predict_df1\n",
        "  predict_df1=pd.DataFrame(predict_df).T\n",
        "  predict_df1.columns=predict_df1.loc[0]\n",
        "  predict_df1.iloc[1:]\n",
        "  prediction=clf.predict(predict_df1.iloc[1:])\n",
        "\n",
        "  return prediction\n",
        "# predic_fun()"
      ],
      "execution_count": null,
      "outputs": []
    },
    {
      "cell_type": "code",
      "metadata": {
        "id": "LGEC0r_2Zp8Y"
      },
      "source": [
        "def time_for_pred():\n",
        "\n",
        "  #taking the time of last avaiable values\n",
        "  dt_str = df.index[-1]\n",
        "  #converting string to datetime format\n",
        "  dt_obj = datetime.strptime(dt_str, '%Y-%m-%d %H:%M:%S')\n",
        "  # print(dt_obj)\n",
        "\n",
        "  #adding minutes of predicted value\n",
        "  dt_obj=dt_obj+timedelta(minutes=5)\n",
        "  #converting to string\n",
        "  dt_obj=dt_obj.strftime ('%Y-%m-%d %H:%M:%S')\n",
        "  # dt_obj=datetime.strptime(dt_obj, '%Y-%m-%d %H:%M:%S')\n",
        "  return dt_obj"
      ],
      "execution_count": null,
      "outputs": []
    },
    {
      "cell_type": "code",
      "metadata": {
        "id": "Qwix-vQA8WIr"
      },
      "source": [
        "def time_for_open_pred():\n",
        "\n",
        "  #taking the time of last avaiable values\n",
        "  dt_str = df.index[-1]\n",
        "  #converting string to datetime format\n",
        "  dt_obj = datetime.strptime(dt_str, '%Y-%m-%d %H:%M:%S')\n",
        "  # print(dt_obj)\n",
        "\n",
        "  #adding minutes of predicted value\n",
        "  dt_obj=dt_obj+timedelta(minutes=5)\n",
        "  #converting to string\n",
        "  dt_obj=dt_obj.strftime ('%Y-%m-%d %H:%M:%S')\n",
        "  # dt_obj=datetime.strptime(dt_obj, '%Y-%m-%d %H:%M:%S')\n",
        "  return dt_obj"
      ],
      "execution_count": null,
      "outputs": []
    },
    {
      "cell_type": "code",
      "metadata": {
        "id": "RXCi5Yc-o228"
      },
      "source": [
        "win_str=0\n",
        "max_lose_str=0\n",
        "lose_str=0\n",
        "max_win_str=0\n",
        "# check_list=[]\n",
        "\n",
        "def values_plot():\n",
        "  global check_list\n",
        "  closed_=test_df['Close'].iloc[-3:][0] #real closed value\n",
        "  open=test_df['Open'].iloc[-1:][0]     #real open value\n",
        "  pre_open=predict_df1['Open'].iloc[1]      #predicted open value\n",
        "  \n",
        "  open_list.append((test_df.index[-1],open))\n",
        "  closed_list.append((test_df.index[-3],closed_))\n",
        "  prediction=predic_fun()\n",
        "  prediction[0]\n",
        "  prediction_list.append((time_for_pred(),prediction[0]))\n",
        "  \n",
        "  predicted_open_list.append((time_for_open_pred(),pre_open))\n",
        "  # check_list.append((time_for_pred(),prediction[0],pre_open))\n",
        "  # print(time_for_pred(),'predicted close',prediction[0],'predicted open',pre_open)\n",
        "\n",
        "  \n",
        "  \n",
        "  \n",
        "  \n",
        "  \n",
        "  time_=test_df['Open'].iloc[-1:].index[0]\n",
        "  global open_df , prediction_df, closed_df,predicted_open_df,predicted_open_df_indx\n",
        "  open_df=pd.DataFrame(open_list[1:])\n",
        "  prediction_df=pd.DataFrame(prediction_list[:-1])\n",
        "  closed_df=pd.DataFrame(closed_list)\n",
        "\n",
        "  predicted_open_df=pd.DataFrame(predicted_open_list)\n",
        "\n",
        "  prediction_str=pd.DataFrame(predicted_open_list)\n",
        "  #matrix\n",
        "  predicted_open_df_indx=prediction_str\n",
        "  predicted_open_df_indx.index=prediction_str[0]\n",
        "\n",
        "  streak()\n",
        "\n",
        "  figure, ax=plt.subplots(4,figsize=(20,20))\n",
        "\n",
        "  \n",
        "  # subplot1.set(title='Open Value at '+time_+' Prediction for next 10 mins')\n",
        "  ax[0].scatter(time_for_pred(),prediction[0], label='Predicted Closed Value')\n",
        "  ax[0].scatter(time_for_pred(),pre_open, label='predicted Open Value')\n",
        "  \n",
        "\n",
        "  # x = np.arange(len(prediction_df[0]))\n",
        "  # width = 0.35\n",
        "\n",
        "  \n",
        "  \n",
        "  # subplot2.plot(open_list[1:], label='Real Open Value Graph')\n",
        "  # subplot2.plot(prediction_list[:-1], label='Predicted Closed Values Graph')\n",
        "  try:\n",
        "    # print(open)\n",
        "    ax[2].bar(prediction_df[0], prediction_df[1], width=0.8, label='Predicted Closed Value' )\n",
        "    ax[2].bar(open_df[0], open_df[1], width=0.4, label='Real Open Value')\n",
        "\n",
        "    \n",
        "\n",
        "    ax[2].set_xlim(0,15)\n",
        "    ax[2].set_ylim(open-15,open+5)\n",
        "    ax[2].set_xticks(prediction_df[0])\n",
        "    ax[2].set_xticklabels(prediction_df[0], rotation=90)\n",
        "    \n",
        "  except:\n",
        "    pass\n",
        "  try:\n",
        "    ax[3].bar(closed_df[0], closed_df[1], width=0.8, label='Real Closed Value', color='red' )\n",
        "    ax[3].bar(open_df[0], open_df[1], width=0.4, label='Real  Open Value', color='orange')\n",
        "\n",
        "    \n",
        "\n",
        "    ax[3].set_xlim(0,15)\n",
        "    ax[3].set_ylim(open-15,open+5)\n",
        "    ax[3].set_xticks(closed_df[0])\n",
        "    ax[3].set_xticklabels(closed_df[0], rotation=90)\n",
        "  except:\n",
        "    pass\n",
        "\n",
        "\n",
        "  try:\n",
        "    # print(open)\n",
        "    ax[1].bar(prediction_df[0], prediction_df[1], width=0.8, label='Predicted Closed Value' )\n",
        "    ax[1].bar(predicted_open_df[0], predicted_open_df[1], width=0.4, label='predicted Open Value')\n",
        "\n",
        "    \n",
        "\n",
        "    ax[1].set_xlim(0,15)\n",
        "    ax[1].set_ylim(open-15,open+5)\n",
        "    ax[1].set_xticks(prediction_df[0])\n",
        "    ax[1].set_xticklabels(prediction_df[0], rotation=90)\n",
        "    \n",
        "  except:\n",
        "    pass\n",
        "\n",
        "  ax[0].legend()\n",
        "  ax[1].legend()\n",
        "  ax[2].legend()\n",
        "  ax[3].legend()\n",
        "\n"
      ],
      "execution_count": null,
      "outputs": []
    },
    {
      "cell_type": "code",
      "metadata": {
        "colab": {
          "background_save": true
        },
        "id": "kmJU-N9e_0MY"
      },
      "source": [
        ""
      ],
      "execution_count": null,
      "outputs": []
    },
    {
      "cell_type": "code",
      "metadata": {
        "id": "ZQmctrulA4KD"
      },
      "source": [
        "max_lose_str=0\n",
        "total_trade=0\n",
        "win_per=0\n",
        "win_str=0\n",
        "lose_str=0\n",
        "max_win_str=0\n",
        "def streak():\n",
        " \n",
        " # list_for_streak.append((time_for_open_pred(),pre_open))\n",
        "\n",
        "  global max_lose_str, win_str, max_lose_str, lose_str, max_win_str, total_trade, win_per\n",
        "  \n",
        "  \n",
        "  try:\n",
        "    \n",
        "    \n",
        "    \n",
        "      \n",
        "\n",
        "    \n",
        "  \n",
        "\n",
        "    if test_df.loc[prediction_df.iloc[-3][0]][0] < test_df.loc[prediction_df.iloc[-3][0]][3] and predicted_open_df_indx.loc[prediction_df.iloc[-3][0]][1] < prediction_df.iloc[-3][1]:\n",
        "      total_trade=total_trade+1\n",
        "      print('Total trade :', total_trade)\n",
        "      \n",
        "      \n",
        "      lose_str=0\n",
        "      win_str=win_str+1\n",
        "      win_per=win_per+1\n",
        "      if max_win_str < win_str:\n",
        "        max_win_str=win_str       \n",
        "        print('Winning Streak :', max_win_str)\n",
        "        print('Losing Streak :', max_lose_str)\n",
        "      else:\n",
        "        print('Winning Streak :', max_win_str)\n",
        "        print('Losing Streak :', max_lose_str)\n",
        "\n",
        "    elif test_df.loc[prediction_df.iloc[-3][0]][0] > test_df.loc[prediction_df.iloc[-3][0]][3] and predicted_open_df_indx.loc[prediction_df.iloc[-3][0]][1] > prediction_df.iloc[-3][1]:\n",
        "      total_trade=total_trade+1\n",
        "      print('Total trade :', total_trade)\n",
        "      lose_str=0\n",
        "      win_str=win_str+1\n",
        "      win_per=win_per+1\n",
        "      # print('Winning Streak :', win_str)\n",
        "      if max_win_str < win_str:\n",
        "        max_win_str=win_str\n",
        "\n",
        "        print('Winning Streak :', max_win_str)\n",
        "        print('Losing Streak :', max_lose_str)\n",
        "      else:\n",
        "        print('Winning Streak :', max_win_str)\n",
        "        print('Losing Streak :', max_lose_str)\n",
        "      \n",
        "\n",
        "    else:\n",
        "      total_trade=total_trade+1\n",
        "      print('Total trade :', total_trade)\n",
        "\n",
        "\n",
        "      win_str=0\n",
        "      lose_str=lose_str+1\n",
        "      if max_lose_str < lose_str:\n",
        "        max_lose_str=lose_str\n",
        "        print('Losing Streak :', max_lose_str)\n",
        "        print('Winning Streak :', max_win_str)\n",
        "      else:\n",
        "        print('Winning Streak :', max_win_str)\n",
        "        print('Losing Streak :', max_lose_str)\n",
        "\n",
        "    \n",
        "    print('Total Wins', win_per )\n",
        "    print('Win Percentage :', (win_per/total_trade)*100)\n",
        "\n",
        "\n",
        "  except:\n",
        "    pass\n",
        "\n"
      ],
      "execution_count": null,
      "outputs": []
    },
    {
      "cell_type": "code",
      "metadata": {
        "colab": {
          "background_save": true
        },
        "id": "AEYSPdVmf93B"
      },
      "source": [
        ""
      ],
      "execution_count": null,
      "outputs": []
    },
    {
      "cell_type": "code",
      "metadata": {
        "id": "KHYJtu7Uyd3C"
      },
      "source": [
        "def all_fun():\n",
        "  data().to_csv(compl_link)\n",
        "  predic_fun()\n",
        "  values_plot()\n",
        "  "
      ],
      "execution_count": null,
      "outputs": []
    },
    {
      "cell_type": "code",
      "metadata": {
        "colab": {
          "background_save": true
        },
        "id": "Rn_LRHJ7nJ18"
      },
      "source": [
        ""
      ],
      "execution_count": null,
      "outputs": []
    },
    {
      "cell_type": "code",
      "metadata": {
        "colab": {
          "base_uri": "https://localhost:8080/",
          "height": 358
        },
        "id": "q_3yoOp3z6QL",
        "outputId": "a80e43b9-8fa1-45b7-c5cc-c5bbb6a2df1f"
      },
      "source": [
        "max_lose_str=0\n",
        "total_trade=0\n",
        "win_per=0\n",
        "win_str=0\n",
        "lose_str=0\n",
        "max_win_str=0\n",
        "\n",
        "\n",
        "prediction_list=[]\n",
        "real_values_list=[]\n",
        "open_list=[]\n",
        "closed_list=[]\n",
        "predicted_open_list=[]\n",
        "list_for_streak=[]\n",
        "\n",
        "while True:\n",
        "  all_fun()\n",
        "  plt.pause(241) #292\n",
        "  # time.sleep(292)\n",
        "  clear_output(wait=True)\n",
        " #500\n",
        "  data().to_csv(compl_link)\n",
        "  predic_fun()\n",
        "  real_values_list.append(test_df['Close'].iloc[-2:][0])\n"
      ],
      "execution_count": null,
      "outputs": [
        {
          "output_type": "error",
          "ename": "NameError",
          "evalue": "ignored",
          "traceback": [
            "\u001b[0;31m---------------------------------------------------------------------------\u001b[0m",
            "\u001b[0;31mNameError\u001b[0m                                 Traceback (most recent call last)",
            "\u001b[0;32m<ipython-input-16-5b02d1ad411d>\u001b[0m in \u001b[0;36m<module>\u001b[0;34m()\u001b[0m\n\u001b[1;32m     15\u001b[0m \u001b[0;34m\u001b[0m\u001b[0m\n\u001b[1;32m     16\u001b[0m \u001b[0;32mwhile\u001b[0m \u001b[0;32mTrue\u001b[0m\u001b[0;34m:\u001b[0m\u001b[0;34m\u001b[0m\u001b[0;34m\u001b[0m\u001b[0m\n\u001b[0;32m---> 17\u001b[0;31m   \u001b[0mall_fun\u001b[0m\u001b[0;34m(\u001b[0m\u001b[0;34m)\u001b[0m\u001b[0;34m\u001b[0m\u001b[0;34m\u001b[0m\u001b[0m\n\u001b[0m\u001b[1;32m     18\u001b[0m   \u001b[0mplt\u001b[0m\u001b[0;34m.\u001b[0m\u001b[0mpause\u001b[0m\u001b[0;34m(\u001b[0m\u001b[0;36m241\u001b[0m\u001b[0;34m)\u001b[0m \u001b[0;31m#292\u001b[0m\u001b[0;34m\u001b[0m\u001b[0;34m\u001b[0m\u001b[0m\n\u001b[1;32m     19\u001b[0m   \u001b[0;31m# time.sleep(292)\u001b[0m\u001b[0;34m\u001b[0m\u001b[0;34m\u001b[0m\u001b[0;34m\u001b[0m\u001b[0m\n",
            "\u001b[0;32m<ipython-input-12-c9408b491ce4>\u001b[0m in \u001b[0;36mall_fun\u001b[0;34m()\u001b[0m\n\u001b[1;32m      1\u001b[0m \u001b[0;32mdef\u001b[0m \u001b[0mall_fun\u001b[0m\u001b[0;34m(\u001b[0m\u001b[0;34m)\u001b[0m\u001b[0;34m:\u001b[0m\u001b[0;34m\u001b[0m\u001b[0;34m\u001b[0m\u001b[0m\n\u001b[0;32m----> 2\u001b[0;31m   \u001b[0mdata\u001b[0m\u001b[0;34m(\u001b[0m\u001b[0;34m)\u001b[0m\u001b[0;34m.\u001b[0m\u001b[0mto_csv\u001b[0m\u001b[0;34m(\u001b[0m\u001b[0mcompl_link\u001b[0m\u001b[0;34m)\u001b[0m\u001b[0;34m\u001b[0m\u001b[0;34m\u001b[0m\u001b[0m\n\u001b[0m\u001b[1;32m      3\u001b[0m   \u001b[0mpredic_fun\u001b[0m\u001b[0;34m(\u001b[0m\u001b[0;34m)\u001b[0m\u001b[0;34m\u001b[0m\u001b[0;34m\u001b[0m\u001b[0m\n\u001b[1;32m      4\u001b[0m   \u001b[0mvalues_plot\u001b[0m\u001b[0;34m(\u001b[0m\u001b[0;34m)\u001b[0m\u001b[0;34m\u001b[0m\u001b[0;34m\u001b[0m\u001b[0m\n\u001b[1;32m      5\u001b[0m \u001b[0;34m\u001b[0m\u001b[0m\n",
            "\u001b[0;31mNameError\u001b[0m: name 'data' is not defined"
          ]
        }
      ]
    },
    {
      "cell_type": "code",
      "metadata": {
        "colab": {
          "base_uri": "https://localhost:8080/"
        },
        "id": "BoyZaTDWoMK-",
        "outputId": "2aa4e283-bed4-4a7d-c858-f1aeba88de88"
      },
      "source": [
        "print(total_trade)"
      ],
      "execution_count": null,
      "outputs": [
        {
          "output_type": "stream",
          "name": "stdout",
          "text": [
            "0\n"
          ]
        }
      ]
    },
    {
      "cell_type": "code",
      "metadata": {
        "colab": {
          "background_save": true
        },
        "id": "P_WQ0pAEF-gQ"
      },
      "source": [
        ""
      ],
      "execution_count": null,
      "outputs": []
    },
    {
      "cell_type": "code",
      "metadata": {
        "colab": {
          "base_uri": "https://localhost:8080/",
          "height": 167
        },
        "id": "Z_-MxnKQW6q7",
        "outputId": "b116e412-a61d-417d-8407-837c9f1f8263"
      },
      "source": [
        "test_df.tail()"
      ],
      "execution_count": null,
      "outputs": [
        {
          "output_type": "error",
          "ename": "NameError",
          "evalue": "ignored",
          "traceback": [
            "\u001b[0;31m---------------------------------------------------------------------------\u001b[0m",
            "\u001b[0;31mNameError\u001b[0m                                 Traceback (most recent call last)",
            "\u001b[0;32m<ipython-input-9-bf0b645cee13>\u001b[0m in \u001b[0;36m<module>\u001b[0;34m()\u001b[0m\n\u001b[0;32m----> 1\u001b[0;31m \u001b[0mtest_df\u001b[0m\u001b[0;34m.\u001b[0m\u001b[0mtail\u001b[0m\u001b[0;34m(\u001b[0m\u001b[0;34m)\u001b[0m\u001b[0;34m\u001b[0m\u001b[0;34m\u001b[0m\u001b[0m\n\u001b[0m",
            "\u001b[0;31mNameError\u001b[0m: name 'test_df' is not defined"
          ]
        }
      ]
    },
    {
      "cell_type": "code",
      "metadata": {
        "colab": {
          "base_uri": "https://localhost:8080/",
          "height": 167
        },
        "id": "IylbE7mQW6n4",
        "outputId": "15b9c3c9-e70b-48ad-cfc8-2f1751b8e797"
      },
      "source": [
        "open_df"
      ],
      "execution_count": null,
      "outputs": [
        {
          "output_type": "error",
          "ename": "NameError",
          "evalue": "ignored",
          "traceback": [
            "\u001b[0;31m---------------------------------------------------------------------------\u001b[0m",
            "\u001b[0;31mNameError\u001b[0m                                 Traceback (most recent call last)",
            "\u001b[0;32m<ipython-input-3-d8c165bd8db2>\u001b[0m in \u001b[0;36m<module>\u001b[0;34m()\u001b[0m\n\u001b[0;32m----> 1\u001b[0;31m \u001b[0mopen_df\u001b[0m\u001b[0;34m\u001b[0m\u001b[0;34m\u001b[0m\u001b[0m\n\u001b[0m",
            "\u001b[0;31mNameError\u001b[0m: name 'open_df' is not defined"
          ]
        }
      ]
    },
    {
      "cell_type": "code",
      "metadata": {
        "colab": {
          "base_uri": "https://localhost:8080/",
          "height": 167
        },
        "id": "5fhbVoBCW6h4",
        "outputId": "4fb52bd8-349d-4934-9604-6ddd2bbdc6ac"
      },
      "source": [
        "closed_df"
      ],
      "execution_count": null,
      "outputs": [
        {
          "output_type": "error",
          "ename": "NameError",
          "evalue": "ignored",
          "traceback": [
            "\u001b[0;31m---------------------------------------------------------------------------\u001b[0m",
            "\u001b[0;31mNameError\u001b[0m                                 Traceback (most recent call last)",
            "\u001b[0;32m<ipython-input-4-6337524b4616>\u001b[0m in \u001b[0;36m<module>\u001b[0;34m()\u001b[0m\n\u001b[0;32m----> 1\u001b[0;31m \u001b[0mclosed_df\u001b[0m\u001b[0;34m\u001b[0m\u001b[0;34m\u001b[0m\u001b[0m\n\u001b[0m",
            "\u001b[0;31mNameError\u001b[0m: name 'closed_df' is not defined"
          ]
        }
      ]
    },
    {
      "cell_type": "code",
      "metadata": {
        "colab": {
          "base_uri": "https://localhost:8080/",
          "height": 32
        },
        "id": "lKDWHETudyYk",
        "outputId": "4ade41f4-7485-4388-a264-cb0b46c31510"
      },
      "source": [
        "prediction_df"
      ],
      "execution_count": null,
      "outputs": [
        {
          "output_type": "execute_result",
          "data": {
            "text/html": [
              "<div>\n",
              "<style scoped>\n",
              "    .dataframe tbody tr th:only-of-type {\n",
              "        vertical-align: middle;\n",
              "    }\n",
              "\n",
              "    .dataframe tbody tr th {\n",
              "        vertical-align: top;\n",
              "    }\n",
              "\n",
              "    .dataframe thead th {\n",
              "        text-align: right;\n",
              "    }\n",
              "</style>\n",
              "<table border=\"1\" class=\"dataframe\">\n",
              "  <thead>\n",
              "    <tr style=\"text-align: right;\">\n",
              "      <th></th>\n",
              "    </tr>\n",
              "  </thead>\n",
              "  <tbody>\n",
              "  </tbody>\n",
              "</table>\n",
              "</div>"
            ],
            "text/plain": [
              "Empty DataFrame\n",
              "Columns: []\n",
              "Index: []"
            ]
          },
          "metadata": {},
          "execution_count": 30
        }
      ]
    },
    {
      "cell_type": "code",
      "metadata": {
        "colab": {
          "base_uri": "https://localhost:8080/",
          "height": 81
        },
        "id": "uWlMjkXU0oiR",
        "outputId": "6f4de428-b512-40a7-b652-32c472aaa609"
      },
      "source": [
        "predicted_open_df"
      ],
      "execution_count": null,
      "outputs": [
        {
          "output_type": "execute_result",
          "data": {
            "text/html": [
              "<div>\n",
              "<style scoped>\n",
              "    .dataframe tbody tr th:only-of-type {\n",
              "        vertical-align: middle;\n",
              "    }\n",
              "\n",
              "    .dataframe tbody tr th {\n",
              "        vertical-align: top;\n",
              "    }\n",
              "\n",
              "    .dataframe thead th {\n",
              "        text-align: right;\n",
              "    }\n",
              "</style>\n",
              "<table border=\"1\" class=\"dataframe\">\n",
              "  <thead>\n",
              "    <tr style=\"text-align: right;\">\n",
              "      <th></th>\n",
              "      <th>0</th>\n",
              "      <th>1</th>\n",
              "    </tr>\n",
              "  </thead>\n",
              "  <tbody>\n",
              "    <tr>\n",
              "      <th>0</th>\n",
              "      <td>2021-10-03 14:25:00</td>\n",
              "      <td>48000.22</td>\n",
              "    </tr>\n",
              "  </tbody>\n",
              "</table>\n",
              "</div>"
            ],
            "text/plain": [
              "                     0         1\n",
              "0  2021-10-03 14:25:00  48000.22"
            ]
          },
          "metadata": {},
          "execution_count": 31
        }
      ]
    },
    {
      "cell_type": "code",
      "metadata": {
        "colab": {
          "background_save": true
        },
        "id": "kFsz5dc4J-ha"
      },
      "source": [
        "check_list"
      ],
      "execution_count": null,
      "outputs": []
    },
    {
      "cell_type": "code",
      "metadata": {
        "colab": {
          "background_save": true
        },
        "id": "NFoovqbWJ-ep"
      },
      "source": [
        ""
      ],
      "execution_count": null,
      "outputs": []
    },
    {
      "cell_type": "code",
      "metadata": {
        "colab": {
          "background_save": true
        },
        "id": "XkaT-bJ_J-b9"
      },
      "source": [
        ""
      ],
      "execution_count": null,
      "outputs": []
    },
    {
      "cell_type": "code",
      "metadata": {
        "colab": {
          "background_save": true
        },
        "id": "ib2h5UZy0ofW"
      },
      "source": [
        "predicted_open_df_indx=predicted_open_df\n",
        "predicted_open_df_indx.index=predicted_open_df[0]\n",
        "predicted_open_df_indx.loc[prediction_df.iloc[-2][0]][1]\n"
      ],
      "execution_count": null,
      "outputs": []
    },
    {
      "cell_type": "code",
      "metadata": {
        "colab": {
          "background_save": true
        },
        "id": "mD7wqkEB0ocS"
      },
      "source": [
        ""
      ],
      "execution_count": null,
      "outputs": []
    },
    {
      "cell_type": "code",
      "metadata": {
        "colab": {
          "background_save": true
        },
        "id": "uTAB69kqaAS9"
      },
      "source": [
        "test_df.iloc[-10:]"
      ],
      "execution_count": null,
      "outputs": []
    },
    {
      "cell_type": "code",
      "metadata": {
        "colab": {
          "background_save": true
        },
        "id": "1sHGIjx1aAYx"
      },
      "source": [
        "closed_list"
      ],
      "execution_count": null,
      "outputs": []
    },
    {
      "cell_type": "code",
      "metadata": {
        "colab": {
          "background_save": true
        },
        "id": "ZbFx5w--aAWG"
      },
      "source": [
        "predicted_open_df"
      ],
      "execution_count": null,
      "outputs": []
    },
    {
      "cell_type": "code",
      "metadata": {
        "colab": {
          "base_uri": "https://localhost:8080/",
          "height": 167
        },
        "id": "6rdtO_fQaAPv",
        "outputId": "3bcc3f80-d261-401c-cbd9-61a843780820"
      },
      "source": [
        "test_df['Close'].iloc[-2:][0], test_df.index[-2]"
      ],
      "execution_count": null,
      "outputs": [
        {
          "output_type": "error",
          "ename": "NameError",
          "evalue": "ignored",
          "traceback": [
            "\u001b[0;31m---------------------------------------------------------------------------\u001b[0m",
            "\u001b[0;31mNameError\u001b[0m                                 Traceback (most recent call last)",
            "\u001b[0;32m<ipython-input-5-d0b1ea9a617b>\u001b[0m in \u001b[0;36m<module>\u001b[0;34m()\u001b[0m\n\u001b[0;32m----> 1\u001b[0;31m \u001b[0mtest_df\u001b[0m\u001b[0;34m[\u001b[0m\u001b[0;34m'Close'\u001b[0m\u001b[0;34m]\u001b[0m\u001b[0;34m.\u001b[0m\u001b[0miloc\u001b[0m\u001b[0;34m[\u001b[0m\u001b[0;34m-\u001b[0m\u001b[0;36m2\u001b[0m\u001b[0;34m:\u001b[0m\u001b[0;34m]\u001b[0m\u001b[0;34m[\u001b[0m\u001b[0;36m0\u001b[0m\u001b[0;34m]\u001b[0m\u001b[0;34m,\u001b[0m \u001b[0mtest_df\u001b[0m\u001b[0;34m.\u001b[0m\u001b[0mindex\u001b[0m\u001b[0;34m[\u001b[0m\u001b[0;34m-\u001b[0m\u001b[0;36m2\u001b[0m\u001b[0;34m]\u001b[0m\u001b[0;34m\u001b[0m\u001b[0;34m\u001b[0m\u001b[0m\n\u001b[0m",
            "\u001b[0;31mNameError\u001b[0m: name 'test_df' is not defined"
          ]
        }
      ]
    },
    {
      "cell_type": "code",
      "metadata": {
        "colab": {
          "background_save": true
        },
        "id": "HFp9QIkEo46A"
      },
      "source": [
        ""
      ],
      "execution_count": null,
      "outputs": []
    }
  ]
}